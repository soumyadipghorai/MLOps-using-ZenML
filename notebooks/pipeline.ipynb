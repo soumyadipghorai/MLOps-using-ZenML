{
  "cells": [
    {
      "cell_type": "code",
      "execution_count": 7,
      "metadata": {
        "colab": {
          "base_uri": "https://localhost:8080/"
        },
        "id": "Vpqb0iG0iZ1v",
        "outputId": "07ca28e9-c502-4a79-928a-d3d7494c0c16"
      },
      "outputs": [
        {
          "name": "stdout",
          "output_type": "stream",
          "text": [
            "Requirement already satisfied: zenml[server] in /usr/local/lib/python3.10/dist-packages (0.44.3)\n",
            "Requirement already satisfied: alembic<1.9.0,>=1.8.1 in /usr/local/lib/python3.10/dist-packages (from zenml[server]) (1.8.1)\n",
            "Requirement already satisfied: azure-mgmt-resource>=21.0.0 in /usr/local/lib/python3.10/dist-packages (from zenml[server]) (23.0.1)\n",
            "Requirement already satisfied: click<8.1.4,>=8.0.1 in /usr/local/lib/python3.10/dist-packages (from zenml[server]) (8.1.3)\n",
            "Requirement already satisfied: click-params<0.4.0,>=0.3.0 in /usr/local/lib/python3.10/dist-packages (from zenml[server]) (0.3.0)\n",
            "Requirement already satisfied: cloudpickle<3,>=2.0.0 in /usr/local/lib/python3.10/dist-packages (from zenml[server]) (2.2.1)\n",
            "Requirement already satisfied: distro<2.0.0,>=1.6.0 in /usr/lib/python3/dist-packages (from zenml[server]) (1.7.0)\n",
            "Requirement already satisfied: docker<6.2.0,>=6.1.0 in /usr/local/lib/python3.10/dist-packages (from zenml[server]) (6.1.3)\n",
            "Requirement already satisfied: gitpython<4.0.0,>=3.1.18 in /usr/local/lib/python3.10/dist-packages (from zenml[server]) (3.1.37)\n",
            "Requirement already satisfied: httplib2<0.20,>=0.19.1 in /usr/local/lib/python3.10/dist-packages (from zenml[server]) (0.19.1)\n",
            "Requirement already satisfied: pandas>=1.1.5 in /usr/local/lib/python3.10/dist-packages (from zenml[server]) (1.5.3)\n",
            "Requirement already satisfied: passlib[bcrypt]<1.8.0,>=1.7.4 in /usr/local/lib/python3.10/dist-packages (from zenml[server]) (1.7.4)\n",
            "Requirement already satisfied: psutil>=5.0.0 in /usr/local/lib/python3.10/dist-packages (from zenml[server]) (5.9.5)\n",
            "Requirement already satisfied: pydantic<1.11,>=1.9.0 in /usr/local/lib/python3.10/dist-packages (from zenml[server]) (1.10.13)\n",
            "Requirement already satisfied: pymysql<1.1.0,>=1.0.2 in /usr/local/lib/python3.10/dist-packages (from zenml[server]) (1.0.3)\n",
            "Requirement already satisfied: pyparsing<3,>=2.4.0 in /usr/local/lib/python3.10/dist-packages (from zenml[server]) (2.4.2)\n",
            "Requirement already satisfied: python-dateutil<3.0.0,>=2.8.1 in /usr/local/lib/python3.10/dist-packages (from zenml[server]) (2.8.2)\n",
            "Requirement already satisfied: python-terraform<0.11.0,>=0.10.1 in /usr/local/lib/python3.10/dist-packages (from zenml[server]) (0.10.1)\n",
            "Requirement already satisfied: pyyaml>=6.0.1 in /usr/local/lib/python3.10/dist-packages (from zenml[server]) (6.0.1)\n",
            "Requirement already satisfied: rich[jupyter]>=12.0.0 in /usr/local/lib/python3.10/dist-packages (from zenml[server]) (13.6.0)\n",
            "Requirement already satisfied: sqlalchemy_utils==0.38.3 in /usr/local/lib/python3.10/dist-packages (from zenml[server]) (0.38.3)\n",
            "Requirement already satisfied: sqlmodel<0.1.0,>=0.0.8 in /usr/local/lib/python3.10/dist-packages (from zenml[server]) (0.0.8)\n",
            "Requirement already satisfied: Jinja2 in /usr/local/lib/python3.10/dist-packages (from zenml[server]) (3.1.2)\n",
            "Collecting fastapi<0.100,>=0.75 (from zenml[server])\n",
            "  Downloading fastapi-0.99.1-py3-none-any.whl (58 kB)\n",
            "\u001b[2K     \u001b[90m━━━━━━━━━━━━━━━━━━━━━━━━━━━━━━━━━━━━━━━━\u001b[0m \u001b[32m58.4/58.4 kB\u001b[0m \u001b[31m1.3 MB/s\u001b[0m eta \u001b[36m0:00:00\u001b[0m\n",
            "\u001b[?25hCollecting fastapi-utils<0.3.0,>=0.2.1 (from zenml[server])\n",
            "  Downloading fastapi_utils-0.2.1-py3-none-any.whl (16 kB)\n",
            "Collecting orjson<3.9.0,>=3.8.3 (from zenml[server])\n",
            "  Downloading orjson-3.8.14-cp310-cp310-manylinux_2_17_x86_64.manylinux2014_x86_64.whl (136 kB)\n",
            "\u001b[2K     \u001b[90m━━━━━━━━━━━━━━━━━━━━━━━━━━━━━━━━━━━━━━━\u001b[0m \u001b[32m136.6/136.6 kB\u001b[0m \u001b[31m5.2 MB/s\u001b[0m eta \u001b[36m0:00:00\u001b[0m\n",
            "\u001b[?25hCollecting python-jose[cryptography]<3.4.0,>=3.3.0 (from zenml[server])\n",
            "  Downloading python_jose-3.3.0-py2.py3-none-any.whl (33 kB)\n",
            "Collecting python-multipart<0.1.0,>=0.0.5 (from zenml[server])\n",
            "  Downloading python_multipart-0.0.6-py3-none-any.whl (45 kB)\n",
            "\u001b[2K     \u001b[90m━━━━━━━━━━━━━━━━━━━━━━━━━━━━━━━━━━━━━━━━\u001b[0m \u001b[32m45.7/45.7 kB\u001b[0m \u001b[31m3.2 MB/s\u001b[0m eta \u001b[36m0:00:00\u001b[0m\n",
            "\u001b[?25hCollecting uvicorn[standard]>=0.17.5 (from zenml[server])\n",
            "  Downloading uvicorn-0.23.2-py3-none-any.whl (59 kB)\n",
            "\u001b[2K     \u001b[90m━━━━━━━━━━━━━━━━━━━━━━━━━━━━━━━━━━━━━━━━\u001b[0m \u001b[32m59.5/59.5 kB\u001b[0m \u001b[31m5.7 MB/s\u001b[0m eta \u001b[36m0:00:00\u001b[0m\n",
            "\u001b[?25hRequirement already satisfied: SQLAlchemy>=1.3 in /usr/local/lib/python3.10/dist-packages (from sqlalchemy_utils==0.38.3->zenml[server]) (1.4.41)\n",
            "Requirement already satisfied: Mako in /usr/local/lib/python3.10/dist-packages (from alembic<1.9.0,>=1.8.1->zenml[server]) (1.2.4)\n",
            "Requirement already satisfied: isodate<1.0.0,>=0.6.1 in /usr/local/lib/python3.10/dist-packages (from azure-mgmt-resource>=21.0.0->zenml[server]) (0.6.1)\n",
            "Requirement already satisfied: azure-common~=1.1 in /usr/local/lib/python3.10/dist-packages (from azure-mgmt-resource>=21.0.0->zenml[server]) (1.1.28)\n",
            "Requirement already satisfied: azure-mgmt-core<2.0.0,>=1.3.2 in /usr/local/lib/python3.10/dist-packages (from azure-mgmt-resource>=21.0.0->zenml[server]) (1.4.0)\n",
            "Requirement already satisfied: validators<0.19,>=0.18 in /usr/local/lib/python3.10/dist-packages (from click-params<0.4.0,>=0.3.0->zenml[server]) (0.18.2)\n",
            "Requirement already satisfied: packaging>=14.0 in /usr/local/lib/python3.10/dist-packages (from docker<6.2.0,>=6.1.0->zenml[server]) (23.2)\n",
            "Requirement already satisfied: requests>=2.26.0 in /usr/local/lib/python3.10/dist-packages (from docker<6.2.0,>=6.1.0->zenml[server]) (2.31.0)\n",
            "Requirement already satisfied: urllib3>=1.26.0 in /usr/local/lib/python3.10/dist-packages (from docker<6.2.0,>=6.1.0->zenml[server]) (2.0.6)\n",
            "Requirement already satisfied: websocket-client>=0.32.0 in /usr/local/lib/python3.10/dist-packages (from docker<6.2.0,>=6.1.0->zenml[server]) (1.6.3)\n",
            "Collecting starlette<0.28.0,>=0.27.0 (from fastapi<0.100,>=0.75->zenml[server])\n",
            "  Downloading starlette-0.27.0-py3-none-any.whl (66 kB)\n",
            "\u001b[2K     \u001b[90m━━━━━━━━━━━━━━━━━━━━━━━━━━━━━━━━━━━━━━━━\u001b[0m \u001b[32m67.0/67.0 kB\u001b[0m \u001b[31m6.9 MB/s\u001b[0m eta \u001b[36m0:00:00\u001b[0m\n",
            "\u001b[?25hRequirement already satisfied: typing-extensions>=4.5.0 in /usr/local/lib/python3.10/dist-packages (from fastapi<0.100,>=0.75->zenml[server]) (4.8.0)\n",
            "Requirement already satisfied: gitdb<5,>=4.0.1 in /usr/local/lib/python3.10/dist-packages (from gitpython<4.0.0,>=3.1.18->zenml[server]) (4.0.10)\n",
            "Requirement already satisfied: pytz>=2020.1 in /usr/local/lib/python3.10/dist-packages (from pandas>=1.1.5->zenml[server]) (2023.3.post1)\n",
            "Requirement already satisfied: numpy>=1.21.0 in /usr/local/lib/python3.10/dist-packages (from pandas>=1.1.5->zenml[server]) (1.23.5)\n",
            "Requirement already satisfied: bcrypt>=3.1.0 in /usr/local/lib/python3.10/dist-packages (from passlib[bcrypt]<1.8.0,>=1.7.4->zenml[server]) (4.0.1)\n",
            "Requirement already satisfied: six>=1.5 in /usr/local/lib/python3.10/dist-packages (from python-dateutil<3.0.0,>=2.8.1->zenml[server]) (1.16.0)\n",
            "Collecting ecdsa!=0.15 (from python-jose[cryptography]<3.4.0,>=3.3.0->zenml[server])\n",
            "  Downloading ecdsa-0.18.0-py2.py3-none-any.whl (142 kB)\n",
            "\u001b[2K     \u001b[90m━━━━━━━━━━━━━━━━━━━━━━━━━━━━━━━━━━━━━━\u001b[0m \u001b[32m142.9/142.9 kB\u001b[0m \u001b[31m11.0 MB/s\u001b[0m eta \u001b[36m0:00:00\u001b[0m\n",
            "\u001b[?25hRequirement already satisfied: rsa in /usr/local/lib/python3.10/dist-packages (from python-jose[cryptography]<3.4.0,>=3.3.0->zenml[server]) (4.9)\n",
            "Requirement already satisfied: pyasn1 in /usr/local/lib/python3.10/dist-packages (from python-jose[cryptography]<3.4.0,>=3.3.0->zenml[server]) (0.5.0)\n",
            "Requirement already satisfied: cryptography>=3.4.0 in /usr/local/lib/python3.10/dist-packages (from python-jose[cryptography]<3.4.0,>=3.3.0->zenml[server]) (41.0.4)\n",
            "Requirement already satisfied: markdown-it-py>=2.2.0 in /usr/local/lib/python3.10/dist-packages (from rich[jupyter]>=12.0.0->zenml[server]) (3.0.0)\n",
            "Requirement already satisfied: pygments<3.0.0,>=2.13.0 in /usr/local/lib/python3.10/dist-packages (from rich[jupyter]>=12.0.0->zenml[server]) (2.16.1)\n",
            "Requirement already satisfied: ipywidgets<9,>=7.5.1 in /usr/local/lib/python3.10/dist-packages (from rich[jupyter]>=12.0.0->zenml[server]) (7.7.1)\n",
            "Requirement already satisfied: sqlalchemy2-stubs in /usr/local/lib/python3.10/dist-packages (from sqlmodel<0.1.0,>=0.0.8->zenml[server]) (0.0.2a35)\n",
            "Collecting h11>=0.8 (from uvicorn[standard]>=0.17.5->zenml[server])\n",
            "  Downloading h11-0.14.0-py3-none-any.whl (58 kB)\n",
            "\u001b[2K     \u001b[90m━━━━━━━━━━━━━━━━━━━━━━━━━━━━━━━━━━━━━━━━\u001b[0m \u001b[32m58.3/58.3 kB\u001b[0m \u001b[31m5.4 MB/s\u001b[0m eta \u001b[36m0:00:00\u001b[0m\n",
            "\u001b[?25hCollecting httptools>=0.5.0 (from uvicorn[standard]>=0.17.5->zenml[server])\n",
            "  Downloading httptools-0.6.0-cp310-cp310-manylinux_2_5_x86_64.manylinux1_x86_64.manylinux_2_17_x86_64.manylinux2014_x86_64.whl (428 kB)\n",
            "\u001b[2K     \u001b[90m━━━━━━━━━━━━━━━━━━━━━━━━━━━━━━━━━━━━━━\u001b[0m \u001b[32m428.8/428.8 kB\u001b[0m \u001b[31m16.9 MB/s\u001b[0m eta \u001b[36m0:00:00\u001b[0m\n",
            "\u001b[?25hCollecting python-dotenv>=0.13 (from uvicorn[standard]>=0.17.5->zenml[server])\n",
            "  Downloading python_dotenv-1.0.0-py3-none-any.whl (19 kB)\n",
            "Collecting uvloop!=0.15.0,!=0.15.1,>=0.14.0 (from uvicorn[standard]>=0.17.5->zenml[server])\n",
            "  Downloading uvloop-0.17.0-cp310-cp310-manylinux_2_17_x86_64.manylinux2014_x86_64.whl (4.1 MB)\n",
            "\u001b[2K     \u001b[90m━━━━━━━━━━━━━━━━━━━━━━━━━━━━━━━━━━━━━━━━\u001b[0m \u001b[32m4.1/4.1 MB\u001b[0m \u001b[31m59.4 MB/s\u001b[0m eta \u001b[36m0:00:00\u001b[0m\n",
            "\u001b[?25hCollecting watchfiles>=0.13 (from uvicorn[standard]>=0.17.5->zenml[server])\n",
            "  Downloading watchfiles-0.20.0-cp37-abi3-manylinux_2_17_x86_64.manylinux2014_x86_64.whl (1.3 MB)\n",
            "\u001b[2K     \u001b[90m━━━━━━━━━━━━━━━━━━━━━━━━━━━━━━━━━━━━━━━━\u001b[0m \u001b[32m1.3/1.3 MB\u001b[0m \u001b[31m46.9 MB/s\u001b[0m eta \u001b[36m0:00:00\u001b[0m\n",
            "\u001b[?25hCollecting websockets>=10.4 (from uvicorn[standard]>=0.17.5->zenml[server])\n",
            "  Downloading websockets-11.0.3-cp310-cp310-manylinux_2_5_x86_64.manylinux1_x86_64.manylinux_2_17_x86_64.manylinux2014_x86_64.whl (129 kB)\n",
            "\u001b[2K     \u001b[90m━━━━━━━━━━━━━━━━━━━━━━━━━━━━━━━━━━━━━━\u001b[0m \u001b[32m129.9/129.9 kB\u001b[0m \u001b[31m12.2 MB/s\u001b[0m eta \u001b[36m0:00:00\u001b[0m\n",
            "\u001b[?25hRequirement already satisfied: MarkupSafe>=2.0 in /usr/local/lib/python3.10/dist-packages (from Jinja2->zenml[server]) (2.1.3)\n",
            "Requirement already satisfied: azure-core<2.0.0,>=1.26.2 in /usr/local/lib/python3.10/dist-packages (from azure-mgmt-core<2.0.0,>=1.3.2->azure-mgmt-resource>=21.0.0->zenml[server]) (1.29.4)\n",
            "Requirement already satisfied: cffi>=1.12 in /usr/local/lib/python3.10/dist-packages (from cryptography>=3.4.0->python-jose[cryptography]<3.4.0,>=3.3.0->zenml[server]) (1.16.0)\n",
            "Requirement already satisfied: smmap<6,>=3.0.1 in /usr/local/lib/python3.10/dist-packages (from gitdb<5,>=4.0.1->gitpython<4.0.0,>=3.1.18->zenml[server]) (5.0.1)\n",
            "Requirement already satisfied: ipykernel>=4.5.1 in /usr/local/lib/python3.10/dist-packages (from ipywidgets<9,>=7.5.1->rich[jupyter]>=12.0.0->zenml[server]) (5.5.6)\n",
            "Requirement already satisfied: ipython-genutils~=0.2.0 in /usr/local/lib/python3.10/dist-packages (from ipywidgets<9,>=7.5.1->rich[jupyter]>=12.0.0->zenml[server]) (0.2.0)\n",
            "Requirement already satisfied: traitlets>=4.3.1 in /usr/local/lib/python3.10/dist-packages (from ipywidgets<9,>=7.5.1->rich[jupyter]>=12.0.0->zenml[server]) (5.7.1)\n",
            "Requirement already satisfied: widgetsnbextension~=3.6.0 in /usr/local/lib/python3.10/dist-packages (from ipywidgets<9,>=7.5.1->rich[jupyter]>=12.0.0->zenml[server]) (3.6.6)\n",
            "Requirement already satisfied: ipython>=4.0.0 in /usr/local/lib/python3.10/dist-packages (from ipywidgets<9,>=7.5.1->rich[jupyter]>=12.0.0->zenml[server]) (7.34.0)\n",
            "Requirement already satisfied: jupyterlab-widgets>=1.0.0 in /usr/local/lib/python3.10/dist-packages (from ipywidgets<9,>=7.5.1->rich[jupyter]>=12.0.0->zenml[server]) (3.0.9)\n",
            "Requirement already satisfied: mdurl~=0.1 in /usr/local/lib/python3.10/dist-packages (from markdown-it-py>=2.2.0->rich[jupyter]>=12.0.0->zenml[server]) (0.1.2)\n",
            "Requirement already satisfied: charset-normalizer<4,>=2 in /usr/local/lib/python3.10/dist-packages (from requests>=2.26.0->docker<6.2.0,>=6.1.0->zenml[server]) (3.3.0)\n",
            "Requirement already satisfied: idna<4,>=2.5 in /usr/local/lib/python3.10/dist-packages (from requests>=2.26.0->docker<6.2.0,>=6.1.0->zenml[server]) (3.4)\n",
            "Requirement already satisfied: certifi>=2017.4.17 in /usr/local/lib/python3.10/dist-packages (from requests>=2.26.0->docker<6.2.0,>=6.1.0->zenml[server]) (2023.7.22)\n",
            "Requirement already satisfied: greenlet!=0.4.17 in /usr/local/lib/python3.10/dist-packages (from SQLAlchemy>=1.3->sqlalchemy_utils==0.38.3->zenml[server]) (3.0.0)\n",
            "Requirement already satisfied: anyio<5,>=3.4.0 in /usr/local/lib/python3.10/dist-packages (from starlette<0.28.0,>=0.27.0->fastapi<0.100,>=0.75->zenml[server]) (3.7.1)\n",
            "Requirement already satisfied: decorator>=3.4.0 in /usr/local/lib/python3.10/dist-packages (from validators<0.19,>=0.18->click-params<0.4.0,>=0.3.0->zenml[server]) (4.4.2)\n",
            "Requirement already satisfied: sniffio>=1.1 in /usr/local/lib/python3.10/dist-packages (from anyio<5,>=3.4.0->starlette<0.28.0,>=0.27.0->fastapi<0.100,>=0.75->zenml[server]) (1.3.0)\n",
            "Requirement already satisfied: exceptiongroup in /usr/local/lib/python3.10/dist-packages (from anyio<5,>=3.4.0->starlette<0.28.0,>=0.27.0->fastapi<0.100,>=0.75->zenml[server]) (1.1.3)\n",
            "Requirement already satisfied: pycparser in /usr/local/lib/python3.10/dist-packages (from cffi>=1.12->cryptography>=3.4.0->python-jose[cryptography]<3.4.0,>=3.3.0->zenml[server]) (2.21)\n",
            "Requirement already satisfied: jupyter-client in /usr/local/lib/python3.10/dist-packages (from ipykernel>=4.5.1->ipywidgets<9,>=7.5.1->rich[jupyter]>=12.0.0->zenml[server]) (6.1.12)\n",
            "Requirement already satisfied: tornado>=4.2 in /usr/local/lib/python3.10/dist-packages (from ipykernel>=4.5.1->ipywidgets<9,>=7.5.1->rich[jupyter]>=12.0.0->zenml[server]) (6.3.2)\n",
            "Requirement already satisfied: setuptools>=18.5 in /usr/local/lib/python3.10/dist-packages (from ipython>=4.0.0->ipywidgets<9,>=7.5.1->rich[jupyter]>=12.0.0->zenml[server]) (67.7.2)\n",
            "Requirement already satisfied: jedi>=0.16 in /usr/local/lib/python3.10/dist-packages (from ipython>=4.0.0->ipywidgets<9,>=7.5.1->rich[jupyter]>=12.0.0->zenml[server]) (0.19.1)\n",
            "Requirement already satisfied: pickleshare in /usr/local/lib/python3.10/dist-packages (from ipython>=4.0.0->ipywidgets<9,>=7.5.1->rich[jupyter]>=12.0.0->zenml[server]) (0.7.5)\n",
            "Requirement already satisfied: prompt-toolkit!=3.0.0,!=3.0.1,<3.1.0,>=2.0.0 in /usr/local/lib/python3.10/dist-packages (from ipython>=4.0.0->ipywidgets<9,>=7.5.1->rich[jupyter]>=12.0.0->zenml[server]) (3.0.39)\n",
            "Requirement already satisfied: backcall in /usr/local/lib/python3.10/dist-packages (from ipython>=4.0.0->ipywidgets<9,>=7.5.1->rich[jupyter]>=12.0.0->zenml[server]) (0.2.0)\n",
            "Requirement already satisfied: matplotlib-inline in /usr/local/lib/python3.10/dist-packages (from ipython>=4.0.0->ipywidgets<9,>=7.5.1->rich[jupyter]>=12.0.0->zenml[server]) (0.1.6)\n",
            "Requirement already satisfied: pexpect>4.3 in /usr/local/lib/python3.10/dist-packages (from ipython>=4.0.0->ipywidgets<9,>=7.5.1->rich[jupyter]>=12.0.0->zenml[server]) (4.8.0)\n",
            "Requirement already satisfied: notebook>=4.4.1 in /usr/local/lib/python3.10/dist-packages (from widgetsnbextension~=3.6.0->ipywidgets<9,>=7.5.1->rich[jupyter]>=12.0.0->zenml[server]) (6.5.5)\n",
            "Requirement already satisfied: parso<0.9.0,>=0.8.3 in /usr/local/lib/python3.10/dist-packages (from jedi>=0.16->ipython>=4.0.0->ipywidgets<9,>=7.5.1->rich[jupyter]>=12.0.0->zenml[server]) (0.8.3)\n",
            "Requirement already satisfied: pyzmq<25,>=17 in /usr/local/lib/python3.10/dist-packages (from notebook>=4.4.1->widgetsnbextension~=3.6.0->ipywidgets<9,>=7.5.1->rich[jupyter]>=12.0.0->zenml[server]) (23.2.1)\n",
            "Requirement already satisfied: argon2-cffi in /usr/local/lib/python3.10/dist-packages (from notebook>=4.4.1->widgetsnbextension~=3.6.0->ipywidgets<9,>=7.5.1->rich[jupyter]>=12.0.0->zenml[server]) (23.1.0)\n",
            "Requirement already satisfied: jupyter-core>=4.6.1 in /usr/local/lib/python3.10/dist-packages (from notebook>=4.4.1->widgetsnbextension~=3.6.0->ipywidgets<9,>=7.5.1->rich[jupyter]>=12.0.0->zenml[server]) (5.3.2)\n",
            "Requirement already satisfied: nbformat in /usr/local/lib/python3.10/dist-packages (from notebook>=4.4.1->widgetsnbextension~=3.6.0->ipywidgets<9,>=7.5.1->rich[jupyter]>=12.0.0->zenml[server]) (5.9.2)\n",
            "Requirement already satisfied: nbconvert>=5 in /usr/local/lib/python3.10/dist-packages (from notebook>=4.4.1->widgetsnbextension~=3.6.0->ipywidgets<9,>=7.5.1->rich[jupyter]>=12.0.0->zenml[server]) (6.5.4)\n",
            "Requirement already satisfied: nest-asyncio>=1.5 in /usr/local/lib/python3.10/dist-packages (from notebook>=4.4.1->widgetsnbextension~=3.6.0->ipywidgets<9,>=7.5.1->rich[jupyter]>=12.0.0->zenml[server]) (1.5.8)\n",
            "Requirement already satisfied: Send2Trash>=1.8.0 in /usr/local/lib/python3.10/dist-packages (from notebook>=4.4.1->widgetsnbextension~=3.6.0->ipywidgets<9,>=7.5.1->rich[jupyter]>=12.0.0->zenml[server]) (1.8.2)\n",
            "Requirement already satisfied: terminado>=0.8.3 in /usr/local/lib/python3.10/dist-packages (from notebook>=4.4.1->widgetsnbextension~=3.6.0->ipywidgets<9,>=7.5.1->rich[jupyter]>=12.0.0->zenml[server]) (0.17.1)\n",
            "Requirement already satisfied: prometheus-client in /usr/local/lib/python3.10/dist-packages (from notebook>=4.4.1->widgetsnbextension~=3.6.0->ipywidgets<9,>=7.5.1->rich[jupyter]>=12.0.0->zenml[server]) (0.17.1)\n",
            "Requirement already satisfied: nbclassic>=0.4.7 in /usr/local/lib/python3.10/dist-packages (from notebook>=4.4.1->widgetsnbextension~=3.6.0->ipywidgets<9,>=7.5.1->rich[jupyter]>=12.0.0->zenml[server]) (1.0.0)\n",
            "Requirement already satisfied: ptyprocess>=0.5 in /usr/local/lib/python3.10/dist-packages (from pexpect>4.3->ipython>=4.0.0->ipywidgets<9,>=7.5.1->rich[jupyter]>=12.0.0->zenml[server]) (0.7.0)\n",
            "Requirement already satisfied: wcwidth in /usr/local/lib/python3.10/dist-packages (from prompt-toolkit!=3.0.0,!=3.0.1,<3.1.0,>=2.0.0->ipython>=4.0.0->ipywidgets<9,>=7.5.1->rich[jupyter]>=12.0.0->zenml[server]) (0.2.8)\n",
            "Requirement already satisfied: platformdirs>=2.5 in /usr/local/lib/python3.10/dist-packages (from jupyter-core>=4.6.1->notebook>=4.4.1->widgetsnbextension~=3.6.0->ipywidgets<9,>=7.5.1->rich[jupyter]>=12.0.0->zenml[server]) (3.11.0)\n",
            "Requirement already satisfied: jupyter-server>=1.8 in /usr/local/lib/python3.10/dist-packages (from nbclassic>=0.4.7->notebook>=4.4.1->widgetsnbextension~=3.6.0->ipywidgets<9,>=7.5.1->rich[jupyter]>=12.0.0->zenml[server]) (1.24.0)\n",
            "Requirement already satisfied: notebook-shim>=0.2.3 in /usr/local/lib/python3.10/dist-packages (from nbclassic>=0.4.7->notebook>=4.4.1->widgetsnbextension~=3.6.0->ipywidgets<9,>=7.5.1->rich[jupyter]>=12.0.0->zenml[server]) (0.2.3)\n",
            "Requirement already satisfied: lxml in /usr/local/lib/python3.10/dist-packages (from nbconvert>=5->notebook>=4.4.1->widgetsnbextension~=3.6.0->ipywidgets<9,>=7.5.1->rich[jupyter]>=12.0.0->zenml[server]) (4.9.3)\n",
            "Requirement already satisfied: beautifulsoup4 in /usr/local/lib/python3.10/dist-packages (from nbconvert>=5->notebook>=4.4.1->widgetsnbextension~=3.6.0->ipywidgets<9,>=7.5.1->rich[jupyter]>=12.0.0->zenml[server]) (4.11.2)\n",
            "Requirement already satisfied: bleach in /usr/local/lib/python3.10/dist-packages (from nbconvert>=5->notebook>=4.4.1->widgetsnbextension~=3.6.0->ipywidgets<9,>=7.5.1->rich[jupyter]>=12.0.0->zenml[server]) (6.0.0)\n",
            "Requirement already satisfied: defusedxml in /usr/local/lib/python3.10/dist-packages (from nbconvert>=5->notebook>=4.4.1->widgetsnbextension~=3.6.0->ipywidgets<9,>=7.5.1->rich[jupyter]>=12.0.0->zenml[server]) (0.7.1)\n",
            "Requirement already satisfied: entrypoints>=0.2.2 in /usr/local/lib/python3.10/dist-packages (from nbconvert>=5->notebook>=4.4.1->widgetsnbextension~=3.6.0->ipywidgets<9,>=7.5.1->rich[jupyter]>=12.0.0->zenml[server]) (0.4)\n",
            "Requirement already satisfied: jupyterlab-pygments in /usr/local/lib/python3.10/dist-packages (from nbconvert>=5->notebook>=4.4.1->widgetsnbextension~=3.6.0->ipywidgets<9,>=7.5.1->rich[jupyter]>=12.0.0->zenml[server]) (0.2.2)\n",
            "Requirement already satisfied: mistune<2,>=0.8.1 in /usr/local/lib/python3.10/dist-packages (from nbconvert>=5->notebook>=4.4.1->widgetsnbextension~=3.6.0->ipywidgets<9,>=7.5.1->rich[jupyter]>=12.0.0->zenml[server]) (0.8.4)\n",
            "Requirement already satisfied: nbclient>=0.5.0 in /usr/local/lib/python3.10/dist-packages (from nbconvert>=5->notebook>=4.4.1->widgetsnbextension~=3.6.0->ipywidgets<9,>=7.5.1->rich[jupyter]>=12.0.0->zenml[server]) (0.8.0)\n",
            "Requirement already satisfied: pandocfilters>=1.4.1 in /usr/local/lib/python3.10/dist-packages (from nbconvert>=5->notebook>=4.4.1->widgetsnbextension~=3.6.0->ipywidgets<9,>=7.5.1->rich[jupyter]>=12.0.0->zenml[server]) (1.5.0)\n",
            "Requirement already satisfied: tinycss2 in /usr/local/lib/python3.10/dist-packages (from nbconvert>=5->notebook>=4.4.1->widgetsnbextension~=3.6.0->ipywidgets<9,>=7.5.1->rich[jupyter]>=12.0.0->zenml[server]) (1.2.1)\n",
            "Requirement already satisfied: fastjsonschema in /usr/local/lib/python3.10/dist-packages (from nbformat->notebook>=4.4.1->widgetsnbextension~=3.6.0->ipywidgets<9,>=7.5.1->rich[jupyter]>=12.0.0->zenml[server]) (2.18.1)\n",
            "Requirement already satisfied: jsonschema>=2.6 in /usr/local/lib/python3.10/dist-packages (from nbformat->notebook>=4.4.1->widgetsnbextension~=3.6.0->ipywidgets<9,>=7.5.1->rich[jupyter]>=12.0.0->zenml[server]) (4.19.1)\n",
            "Requirement already satisfied: argon2-cffi-bindings in /usr/local/lib/python3.10/dist-packages (from argon2-cffi->notebook>=4.4.1->widgetsnbextension~=3.6.0->ipywidgets<9,>=7.5.1->rich[jupyter]>=12.0.0->zenml[server]) (21.2.0)\n",
            "Requirement already satisfied: attrs>=22.2.0 in /usr/local/lib/python3.10/dist-packages (from jsonschema>=2.6->nbformat->notebook>=4.4.1->widgetsnbextension~=3.6.0->ipywidgets<9,>=7.5.1->rich[jupyter]>=12.0.0->zenml[server]) (23.1.0)\n",
            "Requirement already satisfied: jsonschema-specifications>=2023.03.6 in /usr/local/lib/python3.10/dist-packages (from jsonschema>=2.6->nbformat->notebook>=4.4.1->widgetsnbextension~=3.6.0->ipywidgets<9,>=7.5.1->rich[jupyter]>=12.0.0->zenml[server]) (2023.7.1)\n",
            "Requirement already satisfied: referencing>=0.28.4 in /usr/local/lib/python3.10/dist-packages (from jsonschema>=2.6->nbformat->notebook>=4.4.1->widgetsnbextension~=3.6.0->ipywidgets<9,>=7.5.1->rich[jupyter]>=12.0.0->zenml[server]) (0.30.2)\n",
            "Requirement already satisfied: rpds-py>=0.7.1 in /usr/local/lib/python3.10/dist-packages (from jsonschema>=2.6->nbformat->notebook>=4.4.1->widgetsnbextension~=3.6.0->ipywidgets<9,>=7.5.1->rich[jupyter]>=12.0.0->zenml[server]) (0.10.3)\n",
            "Requirement already satisfied: soupsieve>1.2 in /usr/local/lib/python3.10/dist-packages (from beautifulsoup4->nbconvert>=5->notebook>=4.4.1->widgetsnbextension~=3.6.0->ipywidgets<9,>=7.5.1->rich[jupyter]>=12.0.0->zenml[server]) (2.5)\n",
            "Requirement already satisfied: webencodings in /usr/local/lib/python3.10/dist-packages (from bleach->nbconvert>=5->notebook>=4.4.1->widgetsnbextension~=3.6.0->ipywidgets<9,>=7.5.1->rich[jupyter]>=12.0.0->zenml[server]) (0.5.1)\n",
            "Installing collected packages: websockets, uvloop, python-multipart, python-dotenv, orjson, httptools, h11, ecdsa, watchfiles, uvicorn, starlette, python-jose, fastapi, fastapi-utils\n",
            "Successfully installed ecdsa-0.18.0 fastapi-0.99.1 fastapi-utils-0.2.1 h11-0.14.0 httptools-0.6.0 orjson-3.8.14 python-dotenv-1.0.0 python-jose-3.3.0 python-multipart-0.0.6 starlette-0.27.0 uvicorn-0.23.2 uvloop-0.17.0 watchfiles-0.20.0 websockets-11.0.3\n"
          ]
        }
      ],
      "source": [
        "%pip install \"zenml[server]\""
      ]
    },
    {
      "cell_type": "code",
      "execution_count": 8,
      "metadata": {
        "colab": {
          "base_uri": "https://localhost:8080/"
        },
        "id": "HDsvY8Rria7X",
        "outputId": "194acd70-0d95-476c-c726-0a019c62abea"
      },
      "outputs": [
        {
          "name": "stdout",
          "output_type": "stream",
          "text": [
            "\u001b[1;35mNumExpr defaulting to 2 threads.\u001b[0m\n",
            "\u001b[2K\u001b[32m⠴\u001b[0m Installing integrations...\n",
            "\u001b[1A\u001b[2K"
          ]
        }
      ],
      "source": [
        "!zenml integration install sklearn -y"
      ]
    },
    {
      "cell_type": "code",
      "execution_count": 9,
      "metadata": {
        "colab": {
          "base_uri": "https://localhost:8080/"
        },
        "id": "HxfONlzNiswC",
        "outputId": "f33574e8-eef8-42f4-e488-5ffa271c4f2c"
      },
      "outputs": [
        {
          "name": "stdout",
          "output_type": "stream",
          "text": [
            "Requirement already satisfied: pyparsing==2.4.2 in /usr/local/lib/python3.10/dist-packages (2.4.2)\n"
          ]
        }
      ],
      "source": [
        "!pip install pyparsing==2.4.2"
      ]
    },
    {
      "cell_type": "code",
      "execution_count": 11,
      "metadata": {
        "colab": {
          "base_uri": "https://localhost:8080/"
        },
        "id": "yTcnDjdsi1t1",
        "outputId": "e8a96688-bec1-43a4-8a6d-1ef97c0f3bc5"
      },
      "outputs": [
        {
          "data": {
            "text/plain": [
              "{'status': 'ok', 'restart': True}"
            ]
          },
          "execution_count": 11,
          "metadata": {},
          "output_type": "execute_result"
        }
      ],
      "source": [
        "import IPython\n",
        "\n",
        "IPython.Application.instance().kernel.do_shutdown(restart = True)"
      ]
    },
    {
      "cell_type": "code",
      "execution_count": 5,
      "metadata": {
        "id": "RZVY8HzQjAR5"
      },
      "outputs": [],
      "source": [
        "import config\n",
        "NGROK_TOKEN = config.NGROK_TOKEN"
      ]
    },
    {
      "cell_type": "code",
      "execution_count": 33,
      "metadata": {
        "colab": {
          "base_uri": "https://localhost:8080/"
        },
        "id": "4aroeWIrjpE1",
        "outputId": "dfb18469-9fb7-465a-9eb8-a94d8b3a7d2e"
      },
      "outputs": [
        {
          "name": "stdout",
          "output_type": "stream",
          "text": [
            "Requirement already satisfied: pyngrok in /usr/local/lib/python3.10/dist-packages (7.0.0)\n",
            "Requirement already satisfied: PyYAML in /usr/local/lib/python3.10/dist-packages (from pyngrok) (6.0.1)\n",
            "Authtoken saved to configuration file: /root/.ngrok2/ngrok.yml\n"
          ]
        }
      ],
      "source": [
        "from zenml.environment import Environment\n",
        "\n",
        "if Environment.in_google_colab() :\n",
        "    !pip install pyngrok\n",
        "    !ngrok authtoken {NGROK_TOKEN}"
      ]
    },
    {
      "cell_type": "code",
      "execution_count": 34,
      "metadata": {
        "colab": {
          "base_uri": "https://localhost:8080/"
        },
        "id": "0Jo8GQ0aj6AY",
        "outputId": "4b3d5c1f-d8e5-4161-885e-9001b754ec8d"
      },
      "outputs": [
        {
          "name": "stdout",
          "output_type": "stream",
          "text": [
            "\u001b[1;35mNumExpr defaulting to 2 threads.\u001b[0m\n",
            "\u001b[?25l\u001b[32m⠋\u001b[0m Initializing ZenML repository at /content.\n",
            "\u001b[2K\u001b[1A\u001b[2K\u001b[32m⠹\u001b[0m Initializing ZenML repository at /content.\n",
            "\u001b[2K\u001b[1A\u001b[2K\u001b[32m⠸\u001b[0m Initializing ZenML repository at /content.\n",
            "\u001b[1;35mSetting the repo active workspace to 'default'.\u001b[0m\n",
            "\u001b[33mSetting the repo active stack to default.\u001b[0m\n",
            "\u001b[2K\u001b[1A\u001b[2K\u001b[2;36mZenML repository initialized at \u001b[0m\u001b[2;35m/\u001b[0m\u001b[2;95mcontent.\u001b[0m\n",
            "\u001b[2;32m⠼\u001b[0m\u001b[2;36m Initializing ZenML repository at /content.\u001b[0m\n",
            "\u001b[2K\u001b[1A\u001b[2K\u001b[32m⠼\u001b[0m Initializing ZenML repository at /content.\n",
            "\n",
            "\u001b[1A\u001b[2K\u001b[1A\u001b[2K\u001b[2;36mThe local active stack was initialized to \u001b[0m\u001b[2;32m'default'\u001b[0m\u001b[2;36m. This local configuration \u001b[0m\n",
            "\u001b[2;36mwill only take effect when you're running ZenML from the initialized repository \u001b[0m\n",
            "\u001b[2;36mroot, or from a subdirectory. For more information on repositories and \u001b[0m\n",
            "\u001b[2;36mconfigurations, please visit \u001b[0m\n",
            "\u001b[2;4;94mhttps://docs.zenml.io/user-guide/starter-guide/understand-stacks.\u001b[0m\n"
          ]
        }
      ],
      "source": [
        "!rm -rf .zen\n",
        "!zenml init"
      ]
    },
    {
      "cell_type": "markdown",
      "metadata": {
        "id": "_m3KRVoLkUES"
      },
      "source": [
        "### ML experiment"
      ]
    },
    {
      "cell_type": "code",
      "execution_count": 35,
      "metadata": {
        "colab": {
          "base_uri": "https://localhost:8080/"
        },
        "id": "gG8-STDykEPi",
        "outputId": "b4cd6f34-d218-4d0f-ba8d-966995074126"
      },
      "outputs": [
        {
          "name": "stdout",
          "output_type": "stream",
          "text": [
            "test accuracy --> 0.9583333333333334\n"
          ]
        }
      ],
      "source": [
        "import numpy as np\n",
        "from sklearn.base import ClassifierMixin\n",
        "from sklearn.svm import SVC\n",
        "from sklearn.datasets import load_digits\n",
        "from sklearn.model_selection import train_test_split\n",
        "from sklearn.metrics import accuracy_score\n",
        "\n",
        "def train_test() -> None :\n",
        "    digit = load_digits()\n",
        "    data = digit.images.reshape((len(digit.images), -1)) # X\n",
        "    X_train, X_test, y_train, y_test = train_test_split(\n",
        "        data, digit.target, test_size = 0.2, shuffle = False, random_state = 42\n",
        "    )\n",
        "    model = SVC(gamma = 0.001)\n",
        "    model.fit(X_train, y_train)\n",
        "    y_pred = model.predict(X_test)\n",
        "    test_acc = accuracy_score(y_test, y_pred)\n",
        "    print(f\"test accuracy --> {test_acc}\")\n",
        "\n",
        "train_test()"
      ]
    },
    {
      "cell_type": "markdown",
      "metadata": {
        "id": "qUGci6Frl7bi"
      },
      "source": [
        "### Turning experiments into ML pipelines with zenML"
      ]
    },
    {
      "cell_type": "code",
      "execution_count": 36,
      "metadata": {
        "id": "GejE83JSk-lZ"
      },
      "outputs": [],
      "source": [
        "from zenml import step\n",
        "from typing_extensions import Annotated\n",
        "import pandas as pd\n",
        "from typing import Tuple\n",
        "\n",
        "@step\n",
        "def importer() -> Tuple[Annotated[np.ndarray, \"X_train\"], Annotated[np.ndarray, \"X_test\"], Annotated[np.ndarray, \"y_train\"], Annotated[np.ndarray, \"y_test\"]] :\n",
        "    digits = load_digits()\n",
        "    data = digits[\"data\"]\n",
        "    X_train, X_test, y_train, y_test = train_test_split(\n",
        "        data, digits[\"target\"], test_size = 0.2, shuffle = False, random_state = 42\n",
        "    )\n",
        "    return X_train, X_test, y_train, y_test\n",
        "\n",
        "@step\n",
        "def svc_trainer(X_train: np.ndarray, y_train: np.ndarray) -> ClassifierMixin:\n",
        "    model = SVC(gamma = 0.001)\n",
        "    model.fit(X_train, y_train)\n",
        "    return model\n",
        "\n",
        "@step\n",
        "def evaluator(X_test: np.ndarray, y_test: np.ndarray, model: ClassifierMixin) -> float :\n",
        "    y_pred = model.predict(X_test)\n",
        "    test_acc = accuracy_score(y_test, y_pred)\n",
        "    print(f\"test accuracy --> {test_acc}\")\n",
        "    return test_acc\n"
      ]
    },
    {
      "cell_type": "code",
      "execution_count": 37,
      "metadata": {
        "id": "JiXZCGn3mQsg"
      },
      "outputs": [],
      "source": [
        "from zenml import pipeline\n",
        "\n",
        "@pipeline\n",
        "def digits_pipeline() :\n",
        "    X_train, X_test, y_train, y_test = importer()\n",
        "    model = svc_trainer(X_train = X_train, y_train = y_train)\n",
        "    evaluator(X_test = X_test, y_test = y_test, model = model)"
      ]
    },
    {
      "cell_type": "code",
      "execution_count": 38,
      "metadata": {
        "colab": {
          "base_uri": "https://localhost:8080/"
        },
        "id": "xX2DFggWpZEu",
        "outputId": "a573ee21-a2ab-4f72-b13d-c0385cea3698"
      },
      "outputs": [
        {
          "name": "stdout",
          "output_type": "stream",
          "text": [
            "\u001b[1;35mInitiating a new run for the pipeline: \u001b[0m\u001b[1;36mdigits_pipeline\u001b[1;35m.\u001b[0m\n",
            "\u001b[1;35mReloading configuration file /content/.zen/config.yaml\u001b[0m\n",
            "\u001b[1;35mReusing registered version: \u001b[0m\u001b[1;36m(version: 1)\u001b[1;35m.\u001b[0m\n",
            "\u001b[1;35mExecuting a new run.\u001b[0m\n",
            "\u001b[1;35mUsing user: \u001b[0m\u001b[1;36mdefault\u001b[1;35m\u001b[0m\n",
            "\u001b[1;35mUsing stack: \u001b[0m\u001b[1;36mdefault\u001b[1;35m\u001b[0m\n",
            "\u001b[1;35m  artifact_store: \u001b[0m\u001b[1;36mdefault\u001b[1;35m\u001b[0m\n",
            "\u001b[1;35m  orchestrator: \u001b[0m\u001b[1;36mdefault\u001b[1;35m\u001b[0m\n",
            "\u001b[1;35mUsing cached version of \u001b[0m\u001b[1;36mimporter\u001b[1;35m.\u001b[0m\n",
            "\u001b[1;35mStep \u001b[0m\u001b[1;36mimporter\u001b[1;35m has started.\u001b[0m\n",
            "\u001b[1;35mUsing cached version of \u001b[0m\u001b[1;36msvc_trainer\u001b[1;35m.\u001b[0m\n",
            "\u001b[1;35mStep \u001b[0m\u001b[1;36msvc_trainer\u001b[1;35m has started.\u001b[0m\n",
            "\u001b[1;35mUsing cached version of \u001b[0m\u001b[1;36mevaluator\u001b[1;35m.\u001b[0m\n",
            "\u001b[1;35mStep \u001b[0m\u001b[1;36mevaluator\u001b[1;35m has started.\u001b[0m\n",
            "\u001b[1;35mRun \u001b[0m\u001b[1;36mdigits_pipeline-2023_10_05-21_06_47_564433\u001b[1;35m has finished in \u001b[0m\u001b[1;36m2.538s\u001b[1;35m.\u001b[0m\n",
            "\u001b[1;35mYou can visualize your pipeline runs in the \u001b[0m\u001b[1;36mZenML Dashboard\u001b[1;35m. In order to try it locally, please run \u001b[0m\u001b[1;36mzenml up\u001b[1;35m.\u001b[0m\n"
          ]
        }
      ],
      "source": [
        "digits_svc_pipeline = digits_pipeline()"
      ]
    },
    {
      "cell_type": "code",
      "execution_count": 39,
      "metadata": {
        "colab": {
          "base_uri": "https://localhost:8080/"
        },
        "id": "L7ZjGlhJpgUO",
        "outputId": "2b2d1e9b-f4c3-49dd-9d83-ea9adda4652b"
      },
      "outputs": [
        {
          "name": "stderr",
          "output_type": "stream",
          "text": [
            "INFO:pyngrok.ngrok:Opening tunnel named: http-8237-bbdbac5d-9099-4423-975d-c69a850ec158\n"
          ]
        },
        {
          "name": "stdout",
          "output_type": "stream",
          "text": [
            "\u001b[1;35mOpening tunnel named: http-8237-bbdbac5d-9099-4423-975d-c69a850ec158\u001b[0m\n"
          ]
        },
        {
          "name": "stderr",
          "output_type": "stream",
          "text": [
            "INFO:pyngrok.process.ngrok:t=2023-10-05T21:06:52+0000 lvl=info msg=\"no configuration paths supplied\"\n"
          ]
        },
        {
          "name": "stdout",
          "output_type": "stream",
          "text": [
            "\u001b[1;35mt=2023-10-05T21:06:52+0000 lvl=info msg=\"no configuration paths supplied\"\u001b[0m\n"
          ]
        },
        {
          "name": "stderr",
          "output_type": "stream",
          "text": [
            "WARNING:pyngrok.process.ngrok:t=2023-10-05T21:06:52+0000 lvl=warn msg=\"ngrok config file found at legacy location, move to XDG location\" xdg_path=/root/.config/ngrok/ngrok.yml legacy_path=/root/.ngrok2/ngrok.yml\n"
          ]
        },
        {
          "name": "stdout",
          "output_type": "stream",
          "text": [
            "\u001b[33mt=2023-10-05T21:06:52+0000 lvl=warn msg=\"ngrok config file found at legacy location, move to XDG location\" xdg_path=/root/.config/ngrok/ngrok.yml legacy_path=/root/.ngrok2/ngrok.yml\u001b[0m\n"
          ]
        },
        {
          "name": "stderr",
          "output_type": "stream",
          "text": [
            "INFO:pyngrok.process.ngrok:t=2023-10-05T21:06:52+0000 lvl=info msg=\"using configuration at default config path\" path=/root/.ngrok2/ngrok.yml\n"
          ]
        },
        {
          "name": "stdout",
          "output_type": "stream",
          "text": [
            "\u001b[1;35mt=2023-10-05T21:06:52+0000 lvl=info msg=\"using configuration at default config path\" path=/root/.ngrok2/ngrok.yml\u001b[0m\n"
          ]
        },
        {
          "name": "stderr",
          "output_type": "stream",
          "text": [
            "INFO:pyngrok.process.ngrok:t=2023-10-05T21:06:52+0000 lvl=info msg=\"open config file\" path=/root/.ngrok2/ngrok.yml err=nil\n"
          ]
        },
        {
          "name": "stdout",
          "output_type": "stream",
          "text": [
            "\u001b[1;35mt=2023-10-05T21:06:52+0000 lvl=info msg=\"open config file\" path=/root/.ngrok2/ngrok.yml err=nil\u001b[0m\n"
          ]
        },
        {
          "name": "stderr",
          "output_type": "stream",
          "text": [
            "INFO:pyngrok.process.ngrok:t=2023-10-05T21:06:52+0000 lvl=info msg=\"starting web service\" obj=web addr=127.0.0.1:4040 allow_hosts=[]\n"
          ]
        },
        {
          "name": "stdout",
          "output_type": "stream",
          "text": [
            "\u001b[1;35mt=2023-10-05T21:06:52+0000 lvl=info msg=\"starting web service\" obj=web addr=127.0.0.1:4040 allow_hosts=[]\u001b[0m\n"
          ]
        },
        {
          "name": "stderr",
          "output_type": "stream",
          "text": [
            "INFO:pyngrok.process.ngrok:t=2023-10-05T21:06:52+0000 lvl=info msg=\"client session established\" obj=tunnels.session obj=csess id=6ed980a5926b\n"
          ]
        },
        {
          "name": "stdout",
          "output_type": "stream",
          "text": [
            "\u001b[1;35mt=2023-10-05T21:06:52+0000 lvl=info msg=\"client session established\" obj=tunnels.session obj=csess id=6ed980a5926b\u001b[0m\n"
          ]
        },
        {
          "name": "stderr",
          "output_type": "stream",
          "text": [
            "INFO:pyngrok.process.ngrok:t=2023-10-05T21:06:52+0000 lvl=info msg=\"tunnel session started\" obj=tunnels.session\n"
          ]
        },
        {
          "name": "stdout",
          "output_type": "stream",
          "text": [
            "\u001b[1;35mt=2023-10-05T21:06:52+0000 lvl=info msg=\"tunnel session started\" obj=tunnels.session\u001b[0m\n"
          ]
        },
        {
          "name": "stderr",
          "output_type": "stream",
          "text": [
            "INFO:pyngrok.process.ngrok:t=2023-10-05T21:06:52+0000 lvl=info msg=start pg=/api/tunnels id=d0f199227dd43b72\n"
          ]
        },
        {
          "name": "stdout",
          "output_type": "stream",
          "text": [
            "\u001b[1;35mt=2023-10-05T21:06:52+0000 lvl=info msg=start pg=/api/tunnels id=d0f199227dd43b72\u001b[0m\n"
          ]
        },
        {
          "name": "stderr",
          "output_type": "stream",
          "text": [
            "INFO:pyngrok.process.ngrok:t=2023-10-05T21:06:52+0000 lvl=info msg=end pg=/api/tunnels id=d0f199227dd43b72 status=200 dur=790.885µs\n"
          ]
        },
        {
          "name": "stdout",
          "output_type": "stream",
          "text": [
            "\u001b[1;35mt=2023-10-05T21:06:52+0000 lvl=info msg=end pg=/api/tunnels id=d0f199227dd43b72 status=200 dur=790.885µs\u001b[0m\n"
          ]
        },
        {
          "name": "stderr",
          "output_type": "stream",
          "text": [
            "INFO:pyngrok.process.ngrok:t=2023-10-05T21:06:52+0000 lvl=info msg=start pg=/api/tunnels id=9b6279f6977378d1\n"
          ]
        },
        {
          "name": "stdout",
          "output_type": "stream",
          "text": [
            "\u001b[1;35mt=2023-10-05T21:06:52+0000 lvl=info msg=start pg=/api/tunnels id=9b6279f6977378d1\u001b[0m\n"
          ]
        },
        {
          "name": "stderr",
          "output_type": "stream",
          "text": [
            "INFO:pyngrok.process.ngrok:t=2023-10-05T21:06:52+0000 lvl=info msg=end pg=/api/tunnels id=9b6279f6977378d1 status=200 dur=138.701µs\n"
          ]
        },
        {
          "name": "stdout",
          "output_type": "stream",
          "text": [
            "\u001b[1;35mt=2023-10-05T21:06:52+0000 lvl=info msg=end pg=/api/tunnels id=9b6279f6977378d1 status=200 dur=138.701µs\u001b[0m\n"
          ]
        },
        {
          "name": "stderr",
          "output_type": "stream",
          "text": [
            "INFO:pyngrok.process.ngrok:t=2023-10-05T21:06:52+0000 lvl=info msg=start pg=/api/tunnels id=85ab3a7667c40f98\n"
          ]
        },
        {
          "name": "stdout",
          "output_type": "stream",
          "text": [
            "In colab, use this URL instead : NgrokTunnel: \"https://1710-35-196-19-64.ngrok-free.app\" -> \"http://localhost:8237\"\n",
            "\u001b[1;35mt=2023-10-05T21:06:52+0000 lvl=info msg=start pg=/api/tunnels id=85ab3a7667c40f98\u001b[0m\n"
          ]
        },
        {
          "name": "stderr",
          "output_type": "stream",
          "text": [
            "INFO:pyngrok.process.ngrok:t=2023-10-05T21:06:52+0000 lvl=info msg=\"started tunnel\" obj=tunnels name=http-8237-bbdbac5d-9099-4423-975d-c69a850ec158 addr=http://localhost:8237 url=https://1710-35-196-19-64.ngrok-free.app\n"
          ]
        },
        {
          "name": "stdout",
          "output_type": "stream",
          "text": [
            "\u001b[1;35mt=2023-10-05T21:06:52+0000 lvl=info msg=\"started tunnel\" obj=tunnels name=http-8237-bbdbac5d-9099-4423-975d-c69a850ec158 addr=http://localhost:8237 url=https://1710-35-196-19-64.ngrok-free.app\u001b[0m\n"
          ]
        },
        {
          "name": "stderr",
          "output_type": "stream",
          "text": [
            "INFO:pyngrok.process.ngrok:t=2023-10-05T21:06:52+0000 lvl=info msg=end pg=/api/tunnels id=85ab3a7667c40f98 status=201 dur=52.992053ms\n"
          ]
        },
        {
          "name": "stdout",
          "output_type": "stream",
          "text": [
            "\u001b[1;35mt=2023-10-05T21:06:52+0000 lvl=info msg=end pg=/api/tunnels id=85ab3a7667c40f98 status=201 dur=52.992053ms\u001b[0m\n",
            "\u001b[1;35mNumExpr defaulting to 2 threads.\u001b[0m\n"
          ]
        },
        {
          "name": "stderr",
          "output_type": "stream",
          "text": [
            "WARNING:pyngrok.process.ngrok:t=2023-10-05T21:07:06+0000 lvl=warn msg=\"failed to open private leg\" id=c014fc4c7617 privaddr=localhost:8237 err=\"dial tcp 127.0.0.1:8237: connect: connection refused\"\n"
          ]
        },
        {
          "name": "stdout",
          "output_type": "stream",
          "text": [
            "\u001b[33mt=2023-10-05T21:07:06+0000 lvl=warn msg=\"failed to open private leg\" id=c014fc4c7617 privaddr=localhost:8237 err=\"dial tcp 127.0.0.1:8237: connect: connection refused\"\u001b[0m\n"
          ]
        },
        {
          "name": "stderr",
          "output_type": "stream",
          "text": [
            "WARNING:pyngrok.process.ngrok:t=2023-10-05T21:07:07+0000 lvl=warn msg=\"failed to open private leg\" id=46980c9ea73d privaddr=localhost:8237 err=\"dial tcp 127.0.0.1:8237: connect: connection refused\"\n"
          ]
        },
        {
          "name": "stdout",
          "output_type": "stream",
          "text": [
            "\u001b[33mt=2023-10-05T21:07:07+0000 lvl=warn msg=\"failed to open private leg\" id=46980c9ea73d privaddr=localhost:8237 err=\"dial tcp 127.0.0.1:8237: connect: connection refused\"\u001b[0m\n",
            "\u001b[1;35mDeploying a local ZenML server with name 'local'.\u001b[0m\n",
            "\u001b[1;35mStarting ZenML Server as blocking process... press CTRL+C once to stop it.\u001b[0m\n",
            "\u001b[32mINFO\u001b[0m:     Started server process [\u001b[36m11404\u001b[0m]\n",
            "\u001b[32mINFO\u001b[0m:     Waiting for application startup.\n",
            "\u001b[32mINFO\u001b[0m:     Application startup complete.\n",
            "\u001b[32mINFO\u001b[0m:     Uvicorn running on \u001b[1mhttp://127.0.0.1:8237\u001b[0m (Press CTRL+C to quit)\n"
          ]
        },
        {
          "name": "stderr",
          "output_type": "stream",
          "text": [
            "INFO:pyngrok.process.ngrok:t=2023-10-05T21:12:10+0000 lvl=info msg=\"join connections\" obj=join id=1f462bf1bac1 l=127.0.0.1:8237 r=103.249.39.204:55717\n"
          ]
        },
        {
          "name": "stdout",
          "output_type": "stream",
          "text": [
            "\u001b[1;35mt=2023-10-05T21:12:10+0000 lvl=info msg=\"join connections\" obj=join id=1f462bf1bac1 l=127.0.0.1:8237 r=103.249.39.204:55717\u001b[0m\n",
            "\u001b[32mINFO\u001b[0m:     103.249.39.204:0 - \"\u001b[1mGET / HTTP/1.1\u001b[0m\" \u001b[32m200 OK\u001b[0m\n"
          ]
        },
        {
          "name": "stderr",
          "output_type": "stream",
          "text": [
            "INFO:pyngrok.process.ngrok:t=2023-10-05T21:12:10+0000 lvl=info msg=\"join connections\" obj=join id=780ab1366008 l=127.0.0.1:8237 r=103.249.39.204:55717\n"
          ]
        },
        {
          "name": "stdout",
          "output_type": "stream",
          "text": [
            "\u001b[32mINFO\u001b[0m:     103.249.39.204:0 - \"\u001b[1mGET /css/2.5b37d44a.chunk.css HTTP/1.1\u001b[0m\" \u001b[32m200 OK\u001b[0m\n",
            "\u001b[1;35mt=2023-10-05T21:12:10+0000 lvl=info msg=\"join connections\" obj=join id=780ab1366008 l=127.0.0.1:8237 r=103.249.39.204:55717\u001b[0m\n",
            "\u001b[32mINFO\u001b[0m:     103.249.39.204:0 - \"\u001b[1mGET /css/main.ee83c8bd.chunk.css HTTP/1.1\u001b[0m\" \u001b[32m200 OK\u001b[0m\n"
          ]
        },
        {
          "name": "stderr",
          "output_type": "stream",
          "text": [
            "INFO:pyngrok.process.ngrok:t=2023-10-05T21:12:10+0000 lvl=info msg=\"join connections\" obj=join id=af5c244fd171 l=127.0.0.1:8237 r=103.249.39.204:55717\n"
          ]
        },
        {
          "name": "stdout",
          "output_type": "stream",
          "text": [
            "\u001b[1;35mt=2023-10-05T21:12:10+0000 lvl=info msg=\"join connections\" obj=join id=af5c244fd171 l=127.0.0.1:8237 r=103.249.39.204:55717\u001b[0m\n"
          ]
        },
        {
          "name": "stderr",
          "output_type": "stream",
          "text": [
            "INFO:pyngrok.process.ngrok:t=2023-10-05T21:12:10+0000 lvl=info msg=\"join connections\" obj=join id=334a63496ac8 l=127.0.0.1:8237 r=103.249.39.204:55717\n"
          ]
        },
        {
          "name": "stdout",
          "output_type": "stream",
          "text": [
            "\u001b[1;35mt=2023-10-05T21:12:10+0000 lvl=info msg=\"join connections\" obj=join id=334a63496ac8 l=127.0.0.1:8237 r=103.249.39.204:55717\u001b[0m\n",
            "\u001b[32mINFO\u001b[0m:     103.249.39.204:0 - \"\u001b[1mGET /js/main.bdcd9b0c.chunk.js HTTP/1.1\u001b[0m\" \u001b[32m200 OK\u001b[0m\n",
            "\u001b[32mINFO\u001b[0m:     103.249.39.204:0 - \"\u001b[1mGET /js/2.2de5b362.chunk.js HTTP/1.1\u001b[0m\" \u001b[32m200 OK\u001b[0m\n",
            "\u001b[32mINFO\u001b[0m:     103.249.39.204:0 - \"\u001b[1mGET /favicon.ico HTTP/1.1\u001b[0m\" \u001b[32m200 OK\u001b[0m\n"
          ]
        },
        {
          "name": "stderr",
          "output_type": "stream",
          "text": [
            "INFO:pyngrok.process.ngrok:t=2023-10-05T21:12:15+0000 lvl=info msg=\"join connections\" obj=join id=c04a6fb7c86e l=127.0.0.1:8237 r=103.249.39.204:55717\n"
          ]
        },
        {
          "name": "stdout",
          "output_type": "stream",
          "text": [
            "\u001b[32mINFO\u001b[0m:     103.249.39.204:0 - \"\u001b[1mGET /media/logo_small.4204397d.svg HTTP/1.1\u001b[0m\" \u001b[32m200 OK\u001b[0m\n",
            "\u001b[1;35mt=2023-10-05T21:12:15+0000 lvl=info msg=\"join connections\" obj=join id=c04a6fb7c86e l=127.0.0.1:8237 r=103.249.39.204:55717\u001b[0m\n"
          ]
        },
        {
          "name": "stderr",
          "output_type": "stream",
          "text": [
            "INFO:pyngrok.process.ngrok:t=2023-10-05T21:12:15+0000 lvl=info msg=\"join connections\" obj=join id=7842e252e14c l=127.0.0.1:8237 r=103.249.39.204:55717\n"
          ]
        },
        {
          "name": "stdout",
          "output_type": "stream",
          "text": [
            "\u001b[1;35mt=2023-10-05T21:12:15+0000 lvl=info msg=\"join connections\" obj=join id=7842e252e14c l=127.0.0.1:8237 r=103.249.39.204:55717\u001b[0m\n",
            "\u001b[32mINFO\u001b[0m:     103.249.39.204:0 - \"\u001b[1mGET /api/v1/workspaces HTTP/1.1\u001b[0m\" \u001b[31m401 Unauthorized\u001b[0m\n",
            "\u001b[32mINFO\u001b[0m:     103.249.39.204:0 - \"\u001b[1mGET /api/v1/info HTTP/1.1\u001b[0m\" \u001b[32m200 OK\u001b[0m\n",
            "\u001b[32mINFO\u001b[0m:     103.249.39.204:0 - \"\u001b[1mGET /media/Rubik-Regular.b3d0902b.ttf HTTP/1.1\u001b[0m\" \u001b[32m200 OK\u001b[0m\n",
            "\u001b[32mINFO\u001b[0m:     103.249.39.204:0 - \"\u001b[1mGET /media/Rubik-Medium.c87313aa.ttf HTTP/1.1\u001b[0m\" \u001b[32m200 OK\u001b[0m\n"
          ]
        },
        {
          "name": "stderr",
          "output_type": "stream",
          "text": [
            "INFO:pyngrok.process.ngrok:t=2023-10-05T21:12:15+0000 lvl=info msg=\"join connections\" obj=join id=c0d763967af9 l=127.0.0.1:8237 r=103.249.39.204:55717\n"
          ]
        },
        {
          "name": "stdout",
          "output_type": "stream",
          "text": [
            "\u001b[1;35mt=2023-10-05T21:12:15+0000 lvl=info msg=\"join connections\" obj=join id=c0d763967af9 l=127.0.0.1:8237 r=103.249.39.204:55717\u001b[0m\n"
          ]
        },
        {
          "name": "stderr",
          "output_type": "stream",
          "text": [
            "INFO:pyngrok.process.ngrok:t=2023-10-05T21:12:15+0000 lvl=info msg=\"join connections\" obj=join id=555c56cdfb3a l=127.0.0.1:8237 r=103.249.39.204:55717\n"
          ]
        },
        {
          "name": "stdout",
          "output_type": "stream",
          "text": [
            "\u001b[1;35mt=2023-10-05T21:12:15+0000 lvl=info msg=\"join connections\" obj=join id=555c56cdfb3a l=127.0.0.1:8237 r=103.249.39.204:55717\u001b[0m\n"
          ]
        },
        {
          "name": "stderr",
          "output_type": "stream",
          "text": [
            "INFO:pyngrok.process.ngrok:t=2023-10-05T21:12:31+0000 lvl=info msg=\"join connections\" obj=join id=3dcbd7b83003 l=127.0.0.1:8237 r=103.249.39.204:55724\n"
          ]
        },
        {
          "name": "stdout",
          "output_type": "stream",
          "text": [
            "\u001b[1;35mt=2023-10-05T21:12:31+0000 lvl=info msg=\"join connections\" obj=join id=3dcbd7b83003 l=127.0.0.1:8237 r=103.249.39.204:55724\u001b[0m\n",
            "\u001b[32mINFO\u001b[0m:     103.249.39.204:0 - \"\u001b[1mPOST /api/v1/login HTTP/1.1\u001b[0m\" \u001b[31m401 Unauthorized\u001b[0m\n"
          ]
        },
        {
          "name": "stderr",
          "output_type": "stream",
          "text": [
            "INFO:pyngrok.process.ngrok:t=2023-10-05T21:12:49+0000 lvl=info msg=\"join connections\" obj=join id=be94e0f0330c l=127.0.0.1:8237 r=103.249.39.204:55730\n"
          ]
        },
        {
          "name": "stdout",
          "output_type": "stream",
          "text": [
            "\u001b[1;35mt=2023-10-05T21:12:49+0000 lvl=info msg=\"join connections\" obj=join id=be94e0f0330c l=127.0.0.1:8237 r=103.249.39.204:55730\u001b[0m\n",
            "\u001b[32mINFO\u001b[0m:     103.249.39.204:0 - \"\u001b[1mPOST /api/v1/login HTTP/1.1\u001b[0m\" \u001b[32m200 OK\u001b[0m\n"
          ]
        },
        {
          "name": "stderr",
          "output_type": "stream",
          "text": [
            "INFO:pyngrok.process.ngrok:t=2023-10-05T21:12:50+0000 lvl=info msg=\"join connections\" obj=join id=570e1da46fcd l=127.0.0.1:8237 r=103.249.39.204:55730\n"
          ]
        },
        {
          "name": "stdout",
          "output_type": "stream",
          "text": [
            "\u001b[32mINFO\u001b[0m:     103.249.39.204:0 - \"\u001b[1mGET /api/v1/component-types HTTP/1.1\u001b[0m\" \u001b[32m200 OK\u001b[0m\n",
            "\u001b[1;35mt=2023-10-05T21:12:50+0000 lvl=info msg=\"join connections\" obj=join id=570e1da46fcd l=127.0.0.1:8237 r=103.249.39.204:55730\u001b[0m\n"
          ]
        },
        {
          "name": "stderr",
          "output_type": "stream",
          "text": [
            "INFO:pyngrok.process.ngrok:t=2023-10-05T21:12:50+0000 lvl=info msg=\"join connections\" obj=join id=deef61ce5485 l=127.0.0.1:8237 r=103.249.39.204:55730\n"
          ]
        },
        {
          "name": "stdout",
          "output_type": "stream",
          "text": [
            "\u001b[1;35mt=2023-10-05T21:12:50+0000 lvl=info msg=\"join connections\" obj=join id=deef61ce5485 l=127.0.0.1:8237 r=103.249.39.204:55730\u001b[0m\n"
          ]
        },
        {
          "name": "stderr",
          "output_type": "stream",
          "text": [
            "INFO:pyngrok.process.ngrok:t=2023-10-05T21:12:50+0000 lvl=info msg=\"join connections\" obj=join id=981404325f5e l=127.0.0.1:8237 r=103.249.39.204:55730\n"
          ]
        },
        {
          "name": "stdout",
          "output_type": "stream",
          "text": [
            "\u001b[1;35mt=2023-10-05T21:12:50+0000 lvl=info msg=\"join connections\" obj=join id=981404325f5e l=127.0.0.1:8237 r=103.249.39.204:55730\u001b[0m\n"
          ]
        },
        {
          "name": "stderr",
          "output_type": "stream",
          "text": [
            "INFO:pyngrok.process.ngrok:t=2023-10-05T21:12:50+0000 lvl=info msg=\"join connections\" obj=join id=badc06cb7cf4 l=127.0.0.1:8237 r=103.249.39.204:55730\n"
          ]
        },
        {
          "name": "stdout",
          "output_type": "stream",
          "text": [
            "\u001b[1;35mt=2023-10-05T21:12:50+0000 lvl=info msg=\"join connections\" obj=join id=badc06cb7cf4 l=127.0.0.1:8237 r=103.249.39.204:55730\u001b[0m\n"
          ]
        },
        {
          "name": "stderr",
          "output_type": "stream",
          "text": [
            "INFO:pyngrok.process.ngrok:t=2023-10-05T21:12:50+0000 lvl=info msg=\"join connections\" obj=join id=78410830db1b l=127.0.0.1:8237 r=103.249.39.204:55730\n"
          ]
        },
        {
          "name": "stdout",
          "output_type": "stream",
          "text": [
            "\u001b[1;35mt=2023-10-05T21:12:50+0000 lvl=info msg=\"join connections\" obj=join id=78410830db1b l=127.0.0.1:8237 r=103.249.39.204:55730\u001b[0m\n"
          ]
        },
        {
          "name": "stderr",
          "output_type": "stream",
          "text": [
            "INFO:pyngrok.process.ngrok:t=2023-10-05T21:12:50+0000 lvl=info msg=\"join connections\" obj=join id=e1c41a791667 l=127.0.0.1:8237 r=103.249.39.204:55730\n"
          ]
        },
        {
          "name": "stdout",
          "output_type": "stream",
          "text": [
            "\u001b[1;35mt=2023-10-05T21:12:50+0000 lvl=info msg=\"join connections\" obj=join id=e1c41a791667 l=127.0.0.1:8237 r=103.249.39.204:55730\u001b[0m\n",
            "\u001b[32mINFO\u001b[0m:     103.249.39.204:0 - \"\u001b[1mGET /api/v1/current-user HTTP/1.1\u001b[0m\" \u001b[32m200 OK\u001b[0m\n",
            "\u001b[32mINFO\u001b[0m:     103.249.39.204:0 - \"\u001b[1mGET /api/v1/info HTTP/1.1\u001b[0m\" \u001b[32m200 OK\u001b[0m\n",
            "\u001b[32mINFO\u001b[0m:     103.249.39.204:0 - \"\u001b[1mGET /api/v1/workspaces HTTP/1.1\u001b[0m\" \u001b[32m200 OK\u001b[0m\n",
            "\u001b[32mINFO\u001b[0m:     103.249.39.204:0 - \"\u001b[1mGET /api/v1/roles HTTP/1.1\u001b[0m\" \u001b[32m200 OK\u001b[0m\n",
            "\u001b[32mINFO\u001b[0m:     103.249.39.204:0 - \"\u001b[1mGET /api/v1/workspaces/default/statistics HTTP/1.1\u001b[0m\" \u001b[32m200 OK\u001b[0m\n",
            "\u001b[32mINFO\u001b[0m:     103.249.39.204:0 - \"\u001b[1mGET /api/v1/users HTTP/1.1\u001b[0m\" \u001b[32m200 OK\u001b[0m\n",
            "\u001b[32mINFO\u001b[0m:     103.249.39.204:0 - \"\u001b[1mGET /api/v1/workspaces HTTP/1.1\u001b[0m\" \u001b[32m200 OK\u001b[0m\n",
            "\u001b[32mINFO\u001b[0m:     103.249.39.204:0 - \"\u001b[1mGET /api/v1/roles HTTP/1.1\u001b[0m\" \u001b[32m200 OK\u001b[0m\n",
            "\u001b[32mINFO\u001b[0m:     103.249.39.204:0 - \"\u001b[1mGET /api/v1/users HTTP/1.1\u001b[0m\" \u001b[32m200 OK\u001b[0m\n"
          ]
        },
        {
          "name": "stderr",
          "output_type": "stream",
          "text": [
            "INFO:pyngrok.process.ngrok:t=2023-10-05T21:12:51+0000 lvl=info msg=\"join connections\" obj=join id=5a1ec17a7e9a l=127.0.0.1:8237 r=103.249.39.204:55730\n"
          ]
        },
        {
          "name": "stdout",
          "output_type": "stream",
          "text": [
            "\u001b[1;35mt=2023-10-05T21:12:51+0000 lvl=info msg=\"join connections\" obj=join id=5a1ec17a7e9a l=127.0.0.1:8237 r=103.249.39.204:55730\u001b[0m\n"
          ]
        },
        {
          "name": "stderr",
          "output_type": "stream",
          "text": [
            "INFO:pyngrok.process.ngrok:t=2023-10-05T21:12:51+0000 lvl=info msg=\"join connections\" obj=join id=92df657a9c6d l=127.0.0.1:8237 r=103.249.39.204:55730\n"
          ]
        },
        {
          "name": "stdout",
          "output_type": "stream",
          "text": [
            "\u001b[1;35mt=2023-10-05T21:12:51+0000 lvl=info msg=\"join connections\" obj=join id=92df657a9c6d l=127.0.0.1:8237 r=103.249.39.204:55730\u001b[0m\n"
          ]
        },
        {
          "name": "stderr",
          "output_type": "stream",
          "text": [
            "INFO:pyngrok.process.ngrok:t=2023-10-05T21:12:51+0000 lvl=info msg=\"join connections\" obj=join id=77779516937e l=127.0.0.1:8237 r=103.249.39.204:55730\n"
          ]
        },
        {
          "name": "stdout",
          "output_type": "stream",
          "text": [
            "\u001b[32mINFO\u001b[0m:     103.249.39.204:0 - \"\u001b[1mGET /api/v1/current-user HTTP/1.1\u001b[0m\" \u001b[32m200 OK\u001b[0m\n",
            "\u001b[32mINFO\u001b[0m:     103.249.39.204:0 - \"\u001b[1mGET /api/v1/workspaces/default/statistics HTTP/1.1\u001b[0m\" \u001b[32m200 OK\u001b[0m\n",
            "\u001b[1;35mt=2023-10-05T21:12:51+0000 lvl=info msg=\"join connections\" obj=join id=77779516937e l=127.0.0.1:8237 r=103.249.39.204:55730\u001b[0m\n"
          ]
        },
        {
          "name": "stderr",
          "output_type": "stream",
          "text": [
            "INFO:pyngrok.process.ngrok:t=2023-10-05T21:12:54+0000 lvl=info msg=\"join connections\" obj=join id=79e1f0777b1f l=127.0.0.1:8237 r=103.249.39.204:55731\n"
          ]
        },
        {
          "name": "stdout",
          "output_type": "stream",
          "text": [
            "\u001b[1;35mt=2023-10-05T21:12:54+0000 lvl=info msg=\"join connections\" obj=join id=79e1f0777b1f l=127.0.0.1:8237 r=103.249.39.204:55731\u001b[0m\n",
            "\u001b[32mINFO\u001b[0m:     103.249.39.204:0 - \"\u001b[1mPUT /api/v1/users/333c159b-ef87-4857-ba6c-68a3d4a63185/email-opt-in HTTP/1.1\u001b[0m\" \u001b[32m200 OK\u001b[0m\n"
          ]
        },
        {
          "name": "stderr",
          "output_type": "stream",
          "text": [
            "INFO:pyngrok.process.ngrok:t=2023-10-05T21:12:56+0000 lvl=info msg=\"join connections\" obj=join id=372339b41870 l=127.0.0.1:8237 r=103.249.39.204:55731\n"
          ]
        },
        {
          "name": "stdout",
          "output_type": "stream",
          "text": [
            "\u001b[32mINFO\u001b[0m:     103.249.39.204:0 - \"\u001b[1mGET /api/v1/current-user HTTP/1.1\u001b[0m\" \u001b[32m200 OK\u001b[0m\n",
            "\u001b[1;35mt=2023-10-05T21:12:56+0000 lvl=info msg=\"join connections\" obj=join id=372339b41870 l=127.0.0.1:8237 r=103.249.39.204:55731\u001b[0m\n"
          ]
        },
        {
          "name": "stderr",
          "output_type": "stream",
          "text": [
            "INFO:pyngrok.process.ngrok:t=2023-10-05T21:12:56+0000 lvl=info msg=\"join connections\" obj=join id=9557d4e49b85 l=127.0.0.1:8237 r=103.249.39.204:55731\n"
          ]
        },
        {
          "name": "stdout",
          "output_type": "stream",
          "text": [
            "\u001b[1;35mt=2023-10-05T21:12:56+0000 lvl=info msg=\"join connections\" obj=join id=9557d4e49b85 l=127.0.0.1:8237 r=103.249.39.204:55731\u001b[0m\n"
          ]
        },
        {
          "name": "stderr",
          "output_type": "stream",
          "text": [
            "INFO:pyngrok.process.ngrok:t=2023-10-05T21:12:56+0000 lvl=info msg=\"join connections\" obj=join id=3b5052f49f2c l=127.0.0.1:8237 r=103.249.39.204:55731\n"
          ]
        },
        {
          "name": "stdout",
          "output_type": "stream",
          "text": [
            "\u001b[1;35mt=2023-10-05T21:12:56+0000 lvl=info msg=\"join connections\" obj=join id=3b5052f49f2c l=127.0.0.1:8237 r=103.249.39.204:55731\u001b[0m\n"
          ]
        },
        {
          "name": "stderr",
          "output_type": "stream",
          "text": [
            "INFO:pyngrok.process.ngrok:t=2023-10-05T21:12:56+0000 lvl=info msg=\"join connections\" obj=join id=e8a143034484 l=127.0.0.1:8237 r=103.249.39.204:55731\n"
          ]
        },
        {
          "name": "stdout",
          "output_type": "stream",
          "text": [
            "\u001b[1;35mt=2023-10-05T21:12:56+0000 lvl=info msg=\"join connections\" obj=join id=e8a143034484 l=127.0.0.1:8237 r=103.249.39.204:55731\u001b[0m\n"
          ]
        },
        {
          "name": "stderr",
          "output_type": "stream",
          "text": [
            "INFO:pyngrok.process.ngrok:t=2023-10-05T21:12:56+0000 lvl=info msg=\"join connections\" obj=join id=d1657be2ad2b l=127.0.0.1:8237 r=103.249.39.204:55731\n"
          ]
        },
        {
          "name": "stdout",
          "output_type": "stream",
          "text": [
            "\u001b[1;35mt=2023-10-05T21:12:56+0000 lvl=info msg=\"join connections\" obj=join id=d1657be2ad2b l=127.0.0.1:8237 r=103.249.39.204:55731\u001b[0m\n"
          ]
        },
        {
          "name": "stderr",
          "output_type": "stream",
          "text": [
            "INFO:pyngrok.process.ngrok:t=2023-10-05T21:12:56+0000 lvl=info msg=\"join connections\" obj=join id=9971477d44f3 l=127.0.0.1:8237 r=103.249.39.204:55731\n"
          ]
        },
        {
          "name": "stdout",
          "output_type": "stream",
          "text": [
            "\u001b[1;35mt=2023-10-05T21:12:56+0000 lvl=info msg=\"join connections\" obj=join id=9971477d44f3 l=127.0.0.1:8237 r=103.249.39.204:55731\u001b[0m\n",
            "\u001b[32mINFO\u001b[0m:     103.249.39.204:0 - \"\u001b[1mGET /api/v1/workspaces HTTP/1.1\u001b[0m\" \u001b[32m200 OK\u001b[0m\n",
            "\u001b[32mINFO\u001b[0m:     103.249.39.204:0 - \"\u001b[1mGET /api/v1/info HTTP/1.1\u001b[0m\" \u001b[32m200 OK\u001b[0m\n",
            "\u001b[32mINFO\u001b[0m:     103.249.39.204:0 - \"\u001b[1mGET /api/v1/roles HTTP/1.1\u001b[0m\" \u001b[32m200 OK\u001b[0m\n",
            "\u001b[32mINFO\u001b[0m:     103.249.39.204:0 - \"\u001b[1mGET /api/v1/component-types HTTP/1.1\u001b[0m\" \u001b[32m200 OK\u001b[0m\n",
            "\u001b[32mINFO\u001b[0m:     103.249.39.204:0 - \"\u001b[1mGET /api/v1/current-user HTTP/1.1\u001b[0m\" \u001b[32m200 OK\u001b[0m\n",
            "\u001b[32mINFO\u001b[0m:     103.249.39.204:0 - \"\u001b[1mGET /api/v1/users HTTP/1.1\u001b[0m\" \u001b[32m200 OK\u001b[0m\n",
            "\u001b[32mINFO\u001b[0m:     103.249.39.204:0 - \"\u001b[1mGET /api/v1/workspaces/default/statistics HTTP/1.1\u001b[0m\" \u001b[32m200 OK\u001b[0m\n",
            "\u001b[32mINFO\u001b[0m:     103.249.39.204:0 - \"\u001b[1mGET /api/v1/workspaces HTTP/1.1\u001b[0m\" \u001b[32m200 OK\u001b[0m\n",
            "\u001b[32mINFO\u001b[0m:     103.249.39.204:0 - \"\u001b[1mGET /api/v1/component-types HTTP/1.1\u001b[0m\" \u001b[32m200 OK\u001b[0m\n",
            "\u001b[32mINFO\u001b[0m:     103.249.39.204:0 - \"\u001b[1mGET /api/v1/info HTTP/1.1\u001b[0m\" \u001b[32m200 OK\u001b[0m\n"
          ]
        },
        {
          "name": "stderr",
          "output_type": "stream",
          "text": [
            "INFO:pyngrok.process.ngrok:t=2023-10-05T21:12:57+0000 lvl=info msg=\"join connections\" obj=join id=dec0bb3e5379 l=127.0.0.1:8237 r=103.249.39.204:55731\n"
          ]
        },
        {
          "name": "stdout",
          "output_type": "stream",
          "text": [
            "\u001b[32mINFO\u001b[0m:     103.249.39.204:0 - \"\u001b[1mGET /api/v1/roles HTTP/1.1\u001b[0m\" \u001b[32m200 OK\u001b[0m\n",
            "\u001b[1;35mt=2023-10-05T21:12:57+0000 lvl=info msg=\"join connections\" obj=join id=dec0bb3e5379 l=127.0.0.1:8237 r=103.249.39.204:55731\u001b[0m\n"
          ]
        },
        {
          "name": "stderr",
          "output_type": "stream",
          "text": [
            "INFO:pyngrok.process.ngrok:t=2023-10-05T21:12:57+0000 lvl=info msg=\"join connections\" obj=join id=d7875288c341 l=127.0.0.1:8237 r=103.249.39.204:55731\n"
          ]
        },
        {
          "name": "stdout",
          "output_type": "stream",
          "text": [
            "\u001b[1;35mt=2023-10-05T21:12:57+0000 lvl=info msg=\"join connections\" obj=join id=d7875288c341 l=127.0.0.1:8237 r=103.249.39.204:55731\u001b[0m\n"
          ]
        },
        {
          "name": "stderr",
          "output_type": "stream",
          "text": [
            "INFO:pyngrok.process.ngrok:t=2023-10-05T21:12:57+0000 lvl=info msg=\"join connections\" obj=join id=f0f39876db72 l=127.0.0.1:8237 r=103.249.39.204:55731\n"
          ]
        },
        {
          "name": "stdout",
          "output_type": "stream",
          "text": [
            "\u001b[1;35mt=2023-10-05T21:12:57+0000 lvl=info msg=\"join connections\" obj=join id=f0f39876db72 l=127.0.0.1:8237 r=103.249.39.204:55731\u001b[0m\n"
          ]
        },
        {
          "name": "stderr",
          "output_type": "stream",
          "text": [
            "INFO:pyngrok.process.ngrok:t=2023-10-05T21:12:57+0000 lvl=info msg=\"join connections\" obj=join id=1660acf0e16a l=127.0.0.1:8237 r=103.249.39.204:55731\n"
          ]
        },
        {
          "name": "stdout",
          "output_type": "stream",
          "text": [
            "\u001b[1;35mt=2023-10-05T21:12:57+0000 lvl=info msg=\"join connections\" obj=join id=1660acf0e16a l=127.0.0.1:8237 r=103.249.39.204:55731\u001b[0m\n",
            "\u001b[32mINFO\u001b[0m:     103.249.39.204:0 - \"\u001b[1mGET /api/v1/workspaces HTTP/1.1\u001b[0m\" \u001b[32m200 OK\u001b[0m\n",
            "\u001b[32mINFO\u001b[0m:     103.249.39.204:0 - \"\u001b[1mGET /api/v1/users HTTP/1.1\u001b[0m\" \u001b[32m200 OK\u001b[0m\n",
            "\u001b[32mINFO\u001b[0m:     103.249.39.204:0 - \"\u001b[1mGET /api/v1/workspaces/default/statistics HTTP/1.1\u001b[0m\" \u001b[32m200 OK\u001b[0m\n"
          ]
        },
        {
          "name": "stderr",
          "output_type": "stream",
          "text": [
            "INFO:pyngrok.process.ngrok:t=2023-10-05T21:13:09+0000 lvl=info msg=\"join connections\" obj=join id=27d1cd97bd15 l=127.0.0.1:8237 r=103.249.39.204:55732\n"
          ]
        },
        {
          "name": "stdout",
          "output_type": "stream",
          "text": [
            "\u001b[1;35mt=2023-10-05T21:13:09+0000 lvl=info msg=\"join connections\" obj=join id=27d1cd97bd15 l=127.0.0.1:8237 r=103.249.39.204:55732\u001b[0m\n"
          ]
        },
        {
          "name": "stderr",
          "output_type": "stream",
          "text": [
            "INFO:pyngrok.process.ngrok:t=2023-10-05T21:13:09+0000 lvl=info msg=\"join connections\" obj=join id=33cbcaa55ac0 l=127.0.0.1:8237 r=103.249.39.204:55732\n"
          ]
        },
        {
          "name": "stdout",
          "output_type": "stream",
          "text": [
            "\u001b[1;35mt=2023-10-05T21:13:09+0000 lvl=info msg=\"join connections\" obj=join id=33cbcaa55ac0 l=127.0.0.1:8237 r=103.249.39.204:55732\u001b[0m\n"
          ]
        },
        {
          "name": "stderr",
          "output_type": "stream",
          "text": [
            "INFO:pyngrok.process.ngrok:t=2023-10-05T21:13:09+0000 lvl=info msg=\"join connections\" obj=join id=62bf51d2fd86 l=127.0.0.1:8237 r=103.249.39.204:55732\n"
          ]
        },
        {
          "name": "stdout",
          "output_type": "stream",
          "text": [
            "\u001b[1;35mt=2023-10-05T21:13:09+0000 lvl=info msg=\"join connections\" obj=join id=62bf51d2fd86 l=127.0.0.1:8237 r=103.249.39.204:55732\u001b[0m\n",
            "\u001b[32mINFO\u001b[0m:     103.249.39.204:0 - \"\u001b[1mGET /api/v1/workspaces HTTP/1.1\u001b[0m\" \u001b[32m200 OK\u001b[0m\n",
            "\u001b[32mINFO\u001b[0m:     103.249.39.204:0 - \"\u001b[1mGET /api/v1/info HTTP/1.1\u001b[0m\" \u001b[32m200 OK\u001b[0m\n",
            "\u001b[32mINFO\u001b[0m:     103.249.39.204:0 - \"\u001b[1mGET /api/v1/workspaces/default/pipelines?sort_by=desc:created&logical_operator=and&page=1&size=10 HTTP/1.1\u001b[0m\" \u001b[32m200 OK\u001b[0m\n"
          ]
        },
        {
          "name": "stderr",
          "output_type": "stream",
          "text": [
            "INFO:pyngrok.process.ngrok:t=2023-10-05T21:13:12+0000 lvl=info msg=\"join connections\" obj=join id=861bd29734f0 l=127.0.0.1:8237 r=103.249.39.204:55732\n"
          ]
        },
        {
          "name": "stdout",
          "output_type": "stream",
          "text": [
            "\u001b[32mINFO\u001b[0m:     103.249.39.204:0 - \"\u001b[1mGET /api/v1/workspaces HTTP/1.1\u001b[0m\" \u001b[32m200 OK\u001b[0m\n",
            "\u001b[1;35mt=2023-10-05T21:13:12+0000 lvl=info msg=\"join connections\" obj=join id=861bd29734f0 l=127.0.0.1:8237 r=103.249.39.204:55732\u001b[0m\n"
          ]
        },
        {
          "name": "stderr",
          "output_type": "stream",
          "text": [
            "INFO:pyngrok.process.ngrok:t=2023-10-05T21:13:12+0000 lvl=info msg=\"join connections\" obj=join id=3405bed20795 l=127.0.0.1:8237 r=103.249.39.204:55732\n"
          ]
        },
        {
          "name": "stdout",
          "output_type": "stream",
          "text": [
            "\u001b[1;35mt=2023-10-05T21:13:12+0000 lvl=info msg=\"join connections\" obj=join id=3405bed20795 l=127.0.0.1:8237 r=103.249.39.204:55732\u001b[0m\n",
            "\u001b[32mINFO\u001b[0m:     103.249.39.204:0 - \"\u001b[1mGET /api/v1/info HTTP/1.1\u001b[0m\" \u001b[32m200 OK\u001b[0m\n",
            "\u001b[32mINFO\u001b[0m:     103.249.39.204:0 - \"\u001b[1mGET /api/v1/pipelines/472674d7-898f-4800-9bb5-4bf8ab7a0e6b HTTP/1.1\u001b[0m\" \u001b[32m200 OK\u001b[0m\n",
            "\u001b[32mINFO\u001b[0m:     103.249.39.204:0 - \"\u001b[1mGET /api/v1/runs?pipeline_id=472674d7-898f-4800-9bb5-4bf8ab7a0e6b&sort_by=desc:created&logical_operator=and&page=1&size=10 HTTP/1.1\u001b[0m\" \u001b[32m200 OK\u001b[0m\n"
          ]
        },
        {
          "name": "stderr",
          "output_type": "stream",
          "text": [
            "INFO:pyngrok.process.ngrok:t=2023-10-05T21:13:16+0000 lvl=info msg=\"join connections\" obj=join id=c5b145ab599c l=127.0.0.1:8237 r=103.249.39.204:55732\n"
          ]
        },
        {
          "name": "stdout",
          "output_type": "stream",
          "text": [
            "\u001b[31mAPI error\u001b[0m\n",
            "Traceback (most recent call last):\n",
            "  File \"/usr/local/lib/python3.10/dist-packages/zenml/zen_server/utils.py\", line 195, in decorated\n",
            "    return func(*args, **kwargs)\n",
            "  File \"/usr/local/lib/python3.10/dist-packages/zenml/zen_server/routers/schedule_endpoints.py\", line 86, in get_schedule\n",
            "    return zen_store().get_schedule(schedule_id=schedule_id)\n",
            "  File \"/usr/local/lib/python3.10/dist-packages/zenml/zen_stores/sql_zen_store.py\", line 3160, in get_schedule\n",
            "    raise KeyError(\n",
            "KeyError: \"Unable to get schedule with ID '97f92da7-d5d7-4224-8b92-5fcbfb43d4fe': No schedule with this ID found.\"\n",
            "\u001b[32mINFO\u001b[0m:     103.249.39.204:0 - \"\u001b[1mGET /api/v1/schedules/97f92da7-d5d7-4224-8b92-5fcbfb43d4fe HTTP/1.1\u001b[0m\" \u001b[31m404 Not Found\u001b[0m\n",
            "\u001b[32mINFO\u001b[0m:     103.249.39.204:0 - \"\u001b[1mGET /api/v1/workspaces HTTP/1.1\u001b[0m\" \u001b[32m200 OK\u001b[0m\n",
            "\u001b[1;35mt=2023-10-05T21:13:16+0000 lvl=info msg=\"join connections\" obj=join id=c5b145ab599c l=127.0.0.1:8237 r=103.249.39.204:55732\u001b[0m\n"
          ]
        },
        {
          "name": "stderr",
          "output_type": "stream",
          "text": [
            "INFO:pyngrok.process.ngrok:t=2023-10-05T21:13:16+0000 lvl=info msg=\"join connections\" obj=join id=9e14075ee558 l=127.0.0.1:8237 r=103.249.39.204:55732\n"
          ]
        },
        {
          "name": "stdout",
          "output_type": "stream",
          "text": [
            "\u001b[1;35mt=2023-10-05T21:13:16+0000 lvl=info msg=\"join connections\" obj=join id=9e14075ee558 l=127.0.0.1:8237 r=103.249.39.204:55732\u001b[0m\n",
            "\u001b[32mINFO\u001b[0m:     103.249.39.204:0 - \"\u001b[1mGET /api/v1/info HTTP/1.1\u001b[0m\" \u001b[32m200 OK\u001b[0m\n",
            "\u001b[32mINFO\u001b[0m:     103.249.39.204:0 - \"\u001b[1mGET /api/v1/pipelines/472674d7-898f-4800-9bb5-4bf8ab7a0e6b HTTP/1.1\u001b[0m\" \u001b[32m200 OK\u001b[0m\n",
            "\u001b[31mAPI error\u001b[0m\n",
            "Traceback (most recent call last):\n",
            "  File \"/usr/local/lib/python3.10/dist-packages/zenml/zen_server/utils.py\", line 195, in decorated\n",
            "    return func(*args, **kwargs)\n",
            "  File \"/usr/local/lib/python3.10/dist-packages/zenml/zen_server/routers/schedule_endpoints.py\", line 86, in get_schedule\n",
            "    return zen_store().get_schedule(schedule_id=schedule_id)\n",
            "  File \"/usr/local/lib/python3.10/dist-packages/zenml/zen_stores/sql_zen_store.py\", line 3160, in get_schedule\n",
            "    raise KeyError(\n",
            "KeyError: \"Unable to get schedule with ID '97f92da7-d5d7-4224-8b92-5fcbfb43d4fe': No schedule with this ID found.\"\n",
            "\u001b[32mINFO\u001b[0m:     103.249.39.204:0 - \"\u001b[1mGET /api/v1/schedules/97f92da7-d5d7-4224-8b92-5fcbfb43d4fe HTTP/1.1\u001b[0m\" \u001b[31m404 Not Found\u001b[0m\n",
            "\u001b[31mAPI error\u001b[0m\n",
            "Traceback (most recent call last):\n",
            "  File \"/usr/local/lib/python3.10/dist-packages/zenml/zen_server/utils.py\", line 195, in decorated\n",
            "    return func(*args, **kwargs)\n",
            "  File \"/usr/local/lib/python3.10/dist-packages/zenml/zen_server/routers/schedule_endpoints.py\", line 86, in get_schedule\n",
            "    return zen_store().get_schedule(schedule_id=schedule_id)\n",
            "  File \"/usr/local/lib/python3.10/dist-packages/zenml/zen_stores/sql_zen_store.py\", line 3160, in get_schedule\n",
            "    raise KeyError(\n",
            "KeyError: \"Unable to get schedule with ID '97f92da7-d5d7-4224-8b92-5fcbfb43d4fe': No schedule with this ID found.\"\n",
            "\u001b[32mINFO\u001b[0m:     103.249.39.204:0 - \"\u001b[1mGET /api/v1/schedules/97f92da7-d5d7-4224-8b92-5fcbfb43d4fe HTTP/1.1\u001b[0m\" \u001b[31m404 Not Found\u001b[0m\n"
          ]
        },
        {
          "name": "stderr",
          "output_type": "stream",
          "text": [
            "INFO:pyngrok.process.ngrok:t=2023-10-05T21:13:26+0000 lvl=info msg=\"join connections\" obj=join id=e6161df57a1c l=127.0.0.1:8237 r=103.249.39.204:55734\n"
          ]
        },
        {
          "name": "stdout",
          "output_type": "stream",
          "text": [
            "\u001b[1;35mt=2023-10-05T21:13:26+0000 lvl=info msg=\"join connections\" obj=join id=e6161df57a1c l=127.0.0.1:8237 r=103.249.39.204:55734\u001b[0m\n"
          ]
        },
        {
          "name": "stderr",
          "output_type": "stream",
          "text": [
            "INFO:pyngrok.process.ngrok:t=2023-10-05T21:13:26+0000 lvl=info msg=\"join connections\" obj=join id=b47f4e6b903b l=127.0.0.1:8237 r=103.249.39.204:55734\n"
          ]
        },
        {
          "name": "stdout",
          "output_type": "stream",
          "text": [
            "\u001b[1;35mt=2023-10-05T21:13:26+0000 lvl=info msg=\"join connections\" obj=join id=b47f4e6b903b l=127.0.0.1:8237 r=103.249.39.204:55734\u001b[0m\n"
          ]
        },
        {
          "name": "stderr",
          "output_type": "stream",
          "text": [
            "INFO:pyngrok.process.ngrok:t=2023-10-05T21:13:26+0000 lvl=info msg=\"join connections\" obj=join id=0e2944c12b53 l=127.0.0.1:8237 r=103.249.39.204:55734\n"
          ]
        },
        {
          "name": "stdout",
          "output_type": "stream",
          "text": [
            "\u001b[1;35mt=2023-10-05T21:13:26+0000 lvl=info msg=\"join connections\" obj=join id=0e2944c12b53 l=127.0.0.1:8237 r=103.249.39.204:55734\u001b[0m\n"
          ]
        },
        {
          "name": "stderr",
          "output_type": "stream",
          "text": [
            "INFO:pyngrok.process.ngrok:t=2023-10-05T21:13:26+0000 lvl=info msg=\"join connections\" obj=join id=80260ce96c6d l=127.0.0.1:8237 r=103.249.39.204:55734\n"
          ]
        },
        {
          "name": "stdout",
          "output_type": "stream",
          "text": [
            "\u001b[1;35mt=2023-10-05T21:13:26+0000 lvl=info msg=\"join connections\" obj=join id=80260ce96c6d l=127.0.0.1:8237 r=103.249.39.204:55734\u001b[0m\n",
            "\u001b[32mINFO\u001b[0m:     103.249.39.204:0 - \"\u001b[1mGET /api/v1/info HTTP/1.1\u001b[0m\" \u001b[32m200 OK\u001b[0m\n",
            "\u001b[32mINFO\u001b[0m:     103.249.39.204:0 - \"\u001b[1mGET /api/v1/pipelines/472674d7-898f-4800-9bb5-4bf8ab7a0e6b HTTP/1.1\u001b[0m\" \u001b[32m200 OK\u001b[0m\n",
            "\u001b[32mINFO\u001b[0m:     103.249.39.204:0 - \"\u001b[1mGET /api/v1/workspaces HTTP/1.1\u001b[0m\" \u001b[32m200 OK\u001b[0m\n",
            "\u001b[32mINFO\u001b[0m:     103.249.39.204:0 - \"\u001b[1mGET /api/v1/runs?pipeline_id=472674d7-898f-4800-9bb5-4bf8ab7a0e6b&sort_by=desc:created&logical_operator=and&page=1&size=10 HTTP/1.1\u001b[0m\" \u001b[32m200 OK\u001b[0m\n"
          ]
        },
        {
          "name": "stderr",
          "output_type": "stream",
          "text": [
            "INFO:pyngrok.process.ngrok:t=2023-10-05T21:13:29+0000 lvl=info msg=\"join connections\" obj=join id=5490d95a716c l=127.0.0.1:8237 r=103.249.39.204:55734\n"
          ]
        },
        {
          "name": "stdout",
          "output_type": "stream",
          "text": [
            "\u001b[32mINFO\u001b[0m:     103.249.39.204:0 - \"\u001b[1mGET /api/v1/workspaces HTTP/1.1\u001b[0m\" \u001b[32m200 OK\u001b[0m\n",
            "\u001b[31mAPI error\u001b[0m\n",
            "Traceback (most recent call last):\n",
            "  File \"/usr/local/lib/python3.10/dist-packages/zenml/zen_server/utils.py\", line 195, in decorated\n",
            "    return func(*args, **kwargs)\n",
            "  File \"/usr/local/lib/python3.10/dist-packages/zenml/zen_server/routers/schedule_endpoints.py\", line 86, in get_schedule\n",
            "    return zen_store().get_schedule(schedule_id=schedule_id)\n",
            "  File \"/usr/local/lib/python3.10/dist-packages/zenml/zen_stores/sql_zen_store.py\", line 3160, in get_schedule\n",
            "    raise KeyError(\n",
            "KeyError: \"Unable to get schedule with ID '97f92da7-d5d7-4224-8b92-5fcbfb43d4fe': No schedule with this ID found.\"\n",
            "\u001b[32mINFO\u001b[0m:     103.249.39.204:0 - \"\u001b[1mGET /api/v1/schedules/97f92da7-d5d7-4224-8b92-5fcbfb43d4fe HTTP/1.1\u001b[0m\" \u001b[31m404 Not Found\u001b[0m\n",
            "\u001b[1;35mt=2023-10-05T21:13:29+0000 lvl=info msg=\"join connections\" obj=join id=5490d95a716c l=127.0.0.1:8237 r=103.249.39.204:55734\u001b[0m\n"
          ]
        },
        {
          "name": "stderr",
          "output_type": "stream",
          "text": [
            "INFO:pyngrok.process.ngrok:t=2023-10-05T21:13:29+0000 lvl=info msg=\"join connections\" obj=join id=cc3892739b10 l=127.0.0.1:8237 r=103.249.39.204:55734\n"
          ]
        },
        {
          "name": "stdout",
          "output_type": "stream",
          "text": [
            "\u001b[1;35mt=2023-10-05T21:13:29+0000 lvl=info msg=\"join connections\" obj=join id=cc3892739b10 l=127.0.0.1:8237 r=103.249.39.204:55734\u001b[0m\n",
            "\u001b[32mINFO\u001b[0m:     103.249.39.204:0 - \"\u001b[1mGET /api/v1/info HTTP/1.1\u001b[0m\" \u001b[32m200 OK\u001b[0m\n",
            "\u001b[32mINFO\u001b[0m:     103.249.39.204:0 - \"\u001b[1mGET /api/v1/pipelines/472674d7-898f-4800-9bb5-4bf8ab7a0e6b HTTP/1.1\u001b[0m\" \u001b[32m200 OK\u001b[0m\n",
            "\u001b[31mAPI error\u001b[0m\n",
            "Traceback (most recent call last):\n",
            "  File \"/usr/local/lib/python3.10/dist-packages/zenml/zen_server/utils.py\", line 195, in decorated\n",
            "    return func(*args, **kwargs)\n",
            "  File \"/usr/local/lib/python3.10/dist-packages/zenml/zen_server/routers/schedule_endpoints.py\", line 86, in get_schedule\n",
            "    return zen_store().get_schedule(schedule_id=schedule_id)\n",
            "  File \"/usr/local/lib/python3.10/dist-packages/zenml/zen_stores/sql_zen_store.py\", line 3160, in get_schedule\n",
            "    raise KeyError(\n",
            "KeyError: \"Unable to get schedule with ID '97f92da7-d5d7-4224-8b92-5fcbfb43d4fe': No schedule with this ID found.\"\n",
            "\u001b[32mINFO\u001b[0m:     103.249.39.204:0 - \"\u001b[1mGET /api/v1/schedules/97f92da7-d5d7-4224-8b92-5fcbfb43d4fe HTTP/1.1\u001b[0m\" \u001b[31m404 Not Found\u001b[0m\n",
            "\u001b[31mAPI error\u001b[0m\n",
            "Traceback (most recent call last):\n",
            "  File \"/usr/local/lib/python3.10/dist-packages/zenml/zen_server/utils.py\", line 195, in decorated\n",
            "    return func(*args, **kwargs)\n",
            "  File \"/usr/local/lib/python3.10/dist-packages/zenml/zen_server/routers/schedule_endpoints.py\", line 86, in get_schedule\n",
            "    return zen_store().get_schedule(schedule_id=schedule_id)\n",
            "  File \"/usr/local/lib/python3.10/dist-packages/zenml/zen_stores/sql_zen_store.py\", line 3160, in get_schedule\n",
            "    raise KeyError(\n",
            "KeyError: \"Unable to get schedule with ID '97f92da7-d5d7-4224-8b92-5fcbfb43d4fe': No schedule with this ID found.\"\n",
            "\u001b[32mINFO\u001b[0m:     103.249.39.204:0 - \"\u001b[1mGET /api/v1/schedules/97f92da7-d5d7-4224-8b92-5fcbfb43d4fe HTTP/1.1\u001b[0m\" \u001b[31m404 Not Found\u001b[0m\n"
          ]
        },
        {
          "name": "stderr",
          "output_type": "stream",
          "text": [
            "INFO:pyngrok.process.ngrok:t=2023-10-05T21:13:54+0000 lvl=info msg=\"received stop request\" obj=app stopReq=\"{err:<nil> restart:false}\"\n"
          ]
        },
        {
          "name": "stdout",
          "output_type": "stream",
          "text": [
            "\u001b[1;35mt=2023-10-05T21:13:54+0000 lvl=info msg=\"received stop request\" obj=app stopReq=\"{err:<nil> restart:false}\"\u001b[0m\n"
          ]
        },
        {
          "name": "stderr",
          "output_type": "stream",
          "text": [
            "INFO:pyngrok.process.ngrok:t=2023-10-05T21:13:54+0000 lvl=info msg=\"session closing\" obj=tunnels.session err=nil\n"
          ]
        },
        {
          "name": "stdout",
          "output_type": "stream",
          "text": [
            "\u001b[1;35mt=2023-10-05T21:13:54+0000 lvl=info msg=\"session closing\" obj=tunnels.session err=nil\u001b[0m\n",
            "\u001b[32mINFO\u001b[0m:     Shutting down\n",
            "\u001b[32mINFO\u001b[0m:     Finished server process [\u001b[36m11404\u001b[0m]\n",
            "\u001b[31mERROR\u001b[0m:    Traceback (most recent call last):\n",
            "  File \"/usr/local/lib/python3.10/dist-packages/starlette/routing.py\", line 686, in lifespan\n",
            "    await receive()\n",
            "  File \"/usr/local/lib/python3.10/dist-packages/uvicorn/lifespan/on.py\", line 137, in receive\n",
            "    return await self.receive_queue.get()\n",
            "  File \"/usr/lib/python3.10/asyncio/queues.py\", line 159, in get\n",
            "    await getter\n",
            "asyncio.exceptions.CancelledError\n",
            "\n"
          ]
        }
      ],
      "source": [
        "from zenml.environment import Environment\n",
        "\n",
        "def start_zenml_dashboar(port = 8237) :\n",
        "    if Environment.in_google_colab() :\n",
        "        from pyngrok import ngrok\n",
        "        public_url = ngrok.connect(port)\n",
        "        print(f\"In colab, use this URL instead : {public_url}\")\n",
        "        !zenml up --blocking --port {port}\n",
        "\n",
        "    else :\n",
        "        !zenml up --port {port}\n",
        "\n",
        "start_zenml_dashboar()"
      ]
    },
    {
      "cell_type": "markdown",
      "metadata": {
        "id": "mKVfrondsMYp"
      },
      "source": [
        "Use default as username and url https://1710-35-196-19-64.ngrok-free.app"
      ]
    },
    {
      "cell_type": "code",
      "execution_count": null,
      "metadata": {
        "id": "fYorZ-P0qLv-"
      },
      "outputs": [],
      "source": []
    }
  ],
  "metadata": {
    "colab": {
      "provenance": []
    },
    "kernelspec": {
      "display_name": "Python 3",
      "name": "python3"
    },
    "language_info": {
      "name": "python"
    }
  },
  "nbformat": 4,
  "nbformat_minor": 0
}
