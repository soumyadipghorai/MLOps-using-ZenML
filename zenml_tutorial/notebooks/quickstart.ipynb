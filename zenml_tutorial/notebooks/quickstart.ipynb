{
 "cells": [
  {
   "attachments": {},
   "cell_type": "markdown",
   "metadata": {},
   "source": [
    "# Get Up and Running Quickly\n",
    "\n",
    "## 🌍 Overview\n",
    "\n",
    "This quickstart demonstrates some of ZenML's features. We will:\n",
    "\n",
    "- Import some data from a public dataset (Adult Census Income), then train two models (SGD and Random Forest)\n",
    "- Compare and evaluate which model performs better, and deploy the best one.\n",
    "- Run a prediction on the deployed model.\n",
    "\n",
    "Along the way we will also show you how to:\n",
    "\n",
    "- Automatically version, track, and cache data, models, and other artifacts,\n",
    "- Track model hyperparameters and metrics in an experiment tracking tool\n",
    "\n",
    "This will give you enough to get started building your own ZenML Pipelines.\n",
    "Let's dive in!\n"
   ]
  },
  {
   "attachments": {},
   "cell_type": "markdown",
   "metadata": {},
   "source": [
    "## Run on Colab\n",
    "\n",
    "You can use Google Colab to see ZenML in action, no signup / installation\n",
    "required!\n",
    "\n",
    "[![Open In Colab](https://colab.research.google.com/assets/colab-badge.svg)](\n",
    "https://colab.research.google.com/github/zenml-io/zenml/blob/main/examples/quickstart/notebooks/quickstart.ipynb)"
   ]
  },
  {
   "attachments": {},
   "cell_type": "markdown",
   "metadata": {},
   "source": [
    "# 1. Install Requirements\n",
    "\n",
    "Let's install ZenML to get started. First we'll install the latest version of\n",
    "ZenML as well as the two integrations we'll need for this quickstart: `sklearn`\n",
    "and `mlflow`."
   ]
  },
  {
   "cell_type": "code",
   "execution_count": null,
   "metadata": {},
   "outputs": [],
   "source": [
    "!pip install \"zenml[server]\""
   ]
  },
  {
   "cell_type": "code",
   "execution_count": null,
   "metadata": {},
   "outputs": [],
   "source": [
    "from zenml.environment import Environment\n",
    "\n",
    "if Environment.in_google_colab():\n",
    "    # Install Cloudflare Tunnel binary\n",
    "    !wget -q https://github.com/cloudflare/cloudflared/releases/latest/download/cloudflared-linux-amd64.deb && dpkg -i cloudflared-linux-amd64.deb\n"
   ]
  },
  {
   "cell_type": "code",
   "execution_count": null,
   "metadata": {},
   "outputs": [],
   "source": [
    "!zenml integration install sklearn mlflow -y\n",
    "\n",
    "import IPython\n",
    "IPython.Application.instance().kernel.do_shutdown(restart=True)"
   ]
  },
  {
   "cell_type": "code",
   "execution_count": null,
   "metadata": {},
   "outputs": [],
   "source": [
    "!zenml init"
   ]
  },
  {
   "attachments": {},
   "cell_type": "markdown",
   "metadata": {},
   "source": [
    "Please wait for the installation to complete before running subsequent cells. At the end of the installation, the notebook kernel will automatically restart."
   ]
  },
  {
   "attachments": {},
   "cell_type": "markdown",
   "metadata": {},
   "source": [
    "# 2. Import Data\n",
    "\n",
    "We'll start off by importing our data. In this quickstart we'll be working with\n",
    "[the Adult Census Income](https://archive.ics.uci.edu/dataset/2/adult) dataset\n",
    "which is publicly available on the UCI Machine Learning Repository. The task is\n",
    "to predict whether a person makes over $50k a year based on a number of\n",
    "features. These features are things like age, work class, education level,\n",
    "marital status, occupation, relationship, race, sex, capital gain, capital loss,\n",
    "hours per week, and native country.\n",
    "\n",
    "When you're getting started with a machine learning problem you'll want to do\n",
    "something similar to this: import your data and get it in the right shape for\n",
    "your training. ZenML mostly gets out of your way when you're writing your Python\n",
    "code, as you'll see from the following cell."
   ]
  },
  {
   "cell_type": "code",
   "execution_count": null,
   "metadata": {},
   "outputs": [],
   "source": [
    "from typing import Tuple\n",
    "\n",
    "import pandas as pd\n",
    "from sklearn.model_selection import train_test_split\n",
    "\n",
    "from zenml import step\n",
    "\n",
    "\n",
    "@step\n",
    "def training_data_loader() -> (\n",
    "    Tuple[pd.DataFrame, pd.DataFrame, pd.Series, pd.Series]\n",
    "):\n",
    "    \"\"\"Load the Census Income dataset as tuple of Pandas DataFrame / Series.\"\"\"\n",
    "    # Load the dataset\n",
    "    url = \"https://archive.ics.uci.edu/ml/machine-learning-databases/adult/adult.data\"\n",
    "    column_names = [\n",
    "        \"age\",\n",
    "        \"workclass\",\n",
    "        \"fnlwgt\",\n",
    "        \"education\",\n",
    "        \"education-num\",\n",
    "        \"marital-status\",\n",
    "        \"occupation\",\n",
    "        \"relationship\",\n",
    "        \"race\",\n",
    "        \"sex\",\n",
    "        \"capital-gain\",\n",
    "        \"capital-loss\",\n",
    "        \"hours-per-week\",\n",
    "        \"native-country\",\n",
    "        \"income\",\n",
    "    ]\n",
    "    data = pd.read_csv(\n",
    "        url, names=column_names, na_values=\"?\", skipinitialspace=True\n",
    "    )\n",
    "\n",
    "    # Drop rows with missing values\n",
    "    data = data.dropna()\n",
    "\n",
    "    # Encode categorical features and drop original columns\n",
    "    categorical_cols = [\n",
    "        \"workclass\",\n",
    "        \"education\",\n",
    "        \"marital-status\",\n",
    "        \"occupation\",\n",
    "        \"relationship\",\n",
    "        \"race\",\n",
    "        \"sex\",\n",
    "        \"native-country\",\n",
    "    ]\n",
    "    data = pd.get_dummies(data, columns=categorical_cols, drop_first=True)\n",
    "\n",
    "    # Encode target feature\n",
    "    data[\"income\"] = data[\"income\"].apply(\n",
    "        lambda x: 1 if x.strip() == \">50K\" else 0\n",
    "    )\n",
    "\n",
    "    # Separate features and target\n",
    "    X = data.drop(\"income\", axis=1)\n",
    "    y = data[\"income\"]\n",
    "\n",
    "    # Split the dataset into train and test sets\n",
    "    X_train, X_test, y_train, y_test = train_test_split(\n",
    "        X, y, test_size=0.2, random_state=42\n",
    "    )\n",
    "    return (X_train, X_test, y_train, y_test)"
   ]
  },
  {
   "attachments": {},
   "cell_type": "markdown",
   "metadata": {},
   "source": [
    "We download the data, dropping some columns and then splitting it up into train\n",
    "and test sets. The whole function is decorated with the `@step` decorator, which\n",
    "tells ZenML to track this function as a step in the pipeline. This means that\n",
    "ZenML will automatically version, track, and cache the data that is produced by\n",
    "this function. This is a very powerful feature, as it means that you can\n",
    "reproduce your data at any point in the future, even if the original data source\n",
    "changes or disappears.\n",
    "\n",
    "You'll also notice that we have included type hints for the outputs\n",
    "to the function. These are not only useful for anyone reading your code, but\n",
    "help ZenML process your data in a way appropriate to the specific data types."
   ]
  },
  {
   "attachments": {},
   "cell_type": "markdown",
   "metadata": {},
   "source": [
    "ZenML is built in a way that allows you to experiment with your data and build\n",
    "your pipelines as you work, so if you want to call this function to see how it\n",
    "works, you can just call it directly. Here we take a look at the first few rows\n",
    "of your training dataset."
   ]
  },
  {
   "cell_type": "code",
   "execution_count": null,
   "metadata": {},
   "outputs": [],
   "source": [
    "X_train, X_test, y_train, y_test = training_data_loader()\n",
    "X_train.head()"
   ]
  },
  {
   "attachments": {},
   "cell_type": "markdown",
   "metadata": {},
   "source": [
    "Everything looks as we'd expect and the values are all in the right format. We\n",
    "can shift to training some models now! 🥳"
   ]
  },
  {
   "attachments": {},
   "cell_type": "markdown",
   "metadata": {},
   "source": [
    "# 3. Train Models\n",
    "\n",
    "Now that we have our data it makes sense to train some models to get a sense of\n",
    "how difficult the task is. The Census Income\n",
    "dataset is sufficiently large and complex that it's unlikely we'll be able to\n",
    "train a model that behaves perfectly since the problem is inherently complex,\n",
    "but we can get a sense of what a reasonable baseline looks like.\n",
    "\n",
    "We'll start with two simple models, a SGD Classifier and a Random Forest\n",
    "Classifier, both batteries-included from `sklearn`. We'll train them both on the\n",
    "same data and then compare their performance.\n",
    "\n",
    "Since we're starting our work properly, it makes sense to start tracking the\n",
    "experimentation that we're doing. ZenML integrates with MLflow to make this\n",
    "easy. This happens out of the box when using our experiment tracker integration\n",
    "and stack components. We'll see how this works below, but first let's set up\n",
    "ZenML to know that it should use the MLFlow experiment tracker."
   ]
  },
  {
   "cell_type": "code",
   "execution_count": null,
   "metadata": {},
   "outputs": [],
   "source": [
    "# Register the MLflow experiment tracker\n",
    "!zenml experiment-tracker register mlflow --flavor=mlflow\n",
    "\n",
    "# Register a new stack with our experiment tracker\n",
    "!zenml stack register quickstart -a default\\\n",
    "                                 -o default\\\n",
    "                                 -e mlflow\n",
    "\n",
    "!zenml stack set quickstart"
   ]
  },
  {
   "attachments": {},
   "cell_type": "markdown",
   "metadata": {},
   "source": [
    "We can now write the steps where we'll\n",
    "train our models, making sure to specify the name of our experiment tracker in\n",
    "the `@step` decorator. We could specify this manually using a string, but\n",
    "instead we'll use the ZenML `Client` to access the name of our active stack's\n",
    "experiment tracker."
   ]
  },
  {
   "cell_type": "code",
   "execution_count": null,
   "metadata": {},
   "outputs": [],
   "source": [
    "import mlflow\n",
    "\n",
    "from sklearn.base import ClassifierMixin\n",
    "from sklearn.ensemble import RandomForestClassifier\n",
    "from sklearn.linear_model import SGDClassifier\n",
    "\n",
    "from zenml.client import Client\n",
    "\n",
    "experiment_tracker = Client().active_stack.experiment_tracker\n",
    "\n",
    "\n",
    "@step(experiment_tracker=experiment_tracker.name)\n",
    "def random_forest_trainer_mlflow(\n",
    "    X_train: pd.DataFrame,\n",
    "    y_train: pd.Series,\n",
    ") -> ClassifierMixin:\n",
    "    \"\"\"Train a sklearn Random Forest classifier and log to MLflow.\"\"\"\n",
    "    mlflow.sklearn.autolog()  # log all model hyperparams and metrics to MLflow\n",
    "    model = RandomForestClassifier()\n",
    "    model.fit(X_train.to_numpy(), y_train.to_numpy())\n",
    "    train_acc = model.score(X_train.to_numpy(), y_train.to_numpy())\n",
    "    print(f\"Train accuracy: {train_acc}\")\n",
    "    return model\n",
    "\n",
    "\n",
    "@step(experiment_tracker=experiment_tracker.name)\n",
    "def sgd_trainer_mlflow(\n",
    "    X_train: pd.DataFrame,\n",
    "    y_train: pd.Series,\n",
    ") -> ClassifierMixin:\n",
    "    \"\"\"Train a SGD classifier and log to MLflow.\"\"\"\n",
    "    mlflow.sklearn.autolog()  # log all model hyperparams and metrics to MLflow\n",
    "    model = SGDClassifier()\n",
    "    model.fit(X_train.to_numpy(), y_train.to_numpy())\n",
    "    train_acc = model.score(X_train.to_numpy(), y_train.to_numpy())\n",
    "    print(f\"Train accuracy: {train_acc}\")\n",
    "    return model"
   ]
  },
  {
   "attachments": {},
   "cell_type": "markdown",
   "metadata": {},
   "source": [
    "Our two training steps both return different kinds of `sklearn` classifier\n",
    "models, so we use the generic `ClassifierMixin` type hint for the return type."
   ]
  },
  {
   "attachments": {},
   "cell_type": "markdown",
   "metadata": {},
   "source": [
    "The end goal of this quick baseline evaluation is to understand which of the two\n",
    "models performs better. We'll use the `evaluator` step to compare the two\n",
    "models. This step takes in the two models we trained above, and compares them on\n",
    "the test data we created earlier. It returns whichever model performs best along\n",
    "with the accuracy score for that model."
   ]
  },
  {
   "cell_type": "code",
   "execution_count": null,
   "metadata": {},
   "outputs": [],
   "source": [
    "from typing_extensions import Annotated\n",
    "\n",
    "\n",
    "@step\n",
    "def best_model_selector(\n",
    "    X_test: pd.DataFrame,\n",
    "    y_test: pd.Series,\n",
    "    model1: ClassifierMixin,\n",
    "    model2: ClassifierMixin,\n",
    ") -> Tuple[\n",
    "    Annotated[ClassifierMixin, \"best_model\"],\n",
    "    Annotated[float, \"best_model_test_acc\"],\n",
    "]:\n",
    "    \"\"\"Calculate the accuracy on the test set and return the best model and its accuracy.\"\"\"\n",
    "    test_acc1 = model1.score(X_test.to_numpy(), y_test.to_numpy())\n",
    "    test_acc2 = model2.score(X_test.to_numpy(), y_test.to_numpy())\n",
    "    print(f\"Test accuracy ({model1.__class__.__name__}): {test_acc1}\")\n",
    "    print(f\"Test accuracy ({model2.__class__.__name__}): {test_acc2}\")\n",
    "    if test_acc1 > test_acc2:\n",
    "        best_model = model1\n",
    "        best_model_test_acc = test_acc1\n",
    "    else:\n",
    "        best_model = model2\n",
    "        best_model_test_acc = test_acc2\n",
    "    return best_model, best_model_test_acc"
   ]
  },
  {
   "attachments": {},
   "cell_type": "markdown",
   "metadata": {},
   "source": [
    "Note the use of the `typing` module's `Annotated` type hint in the output of the\n",
    "step. We're using this to give a name to the output of the step, which will make\n",
    "it possible to access it via a keyword later on."
   ]
  },
  {
   "attachments": {},
   "cell_type": "markdown",
   "metadata": {},
   "source": [
    "We'll likely want to use our model in the future so instead of simply outputting\n",
    "the model we'll use the MLflow model registry to store it. This allows us to\n",
    "version the model for retrieval and use later on as well as to use other\n",
    "functionality made possible within the MLflow dashboard. This step is a bit\n",
    "different from the ones listed above in that we're using a pre-built ZenML step\n",
    "instead of just writing our own. You'll often come across these pre-built steps\n",
    "for common workflows."
   ]
  },
  {
   "cell_type": "code",
   "execution_count": null,
   "metadata": {},
   "outputs": [],
   "source": [
    "from zenml.integrations.mlflow.steps.mlflow_registry import (\n",
    "    mlflow_register_model_step,\n",
    ")\n",
    "\n",
    "model_name = \"zenml-quickstart-model\"\n",
    "\n",
    "register_model = mlflow_register_model_step.with_options(\n",
    "    parameters=dict(\n",
    "        name=model_name,\n",
    "        description=\"The first run of the Quickstart pipeline.\",\n",
    "    )\n",
    ")"
   ]
  },
  {
   "attachments": {},
   "cell_type": "markdown",
   "metadata": {},
   "source": [
    "We're now at the point where can bring all these steps together into a single\n",
    "pipeline, the top-level organising entity for code in ZenML. Creating such a pipeline is\n",
    "as simple as adding a `@pipeline` decorator to a function. This specific\n",
    "pipeline doesn't return a value, but that option is available to you if you need."
   ]
  },
  {
   "cell_type": "code",
   "execution_count": null,
   "metadata": {},
   "outputs": [],
   "source": [
    "from zenml import pipeline\n",
    "\n",
    "\n",
    "@pipeline(enable_cache=True)\n",
    "def train_and_register_model_pipeline() -> None:\n",
    "    \"\"\"Train a model.\"\"\"\n",
    "    X_train, X_test, y_train, y_test = training_data_loader()\n",
    "    model1 = random_forest_trainer_mlflow(X_train=X_train, y_train=y_train)\n",
    "    model2 = sgd_trainer_mlflow(X_train=X_train, y_train=y_train)\n",
    "    best_model, _ = best_model_selector(\n",
    "        X_test=X_test, y_test=y_test, model1=model1, model2=model2\n",
    "    )\n",
    "    register_model(best_model)"
   ]
  },
  {
   "attachments": {},
   "cell_type": "markdown",
   "metadata": {},
   "source": [
    "We've used the built-in MLflow registry to store our model, but ZenML doesn't\n",
    "yet know that we want to use the MLflow flavor of the model registry stack\n",
    "component in our stack. Let's add that now and update our stack."
   ]
  },
  {
   "cell_type": "code",
   "execution_count": null,
   "metadata": {},
   "outputs": [],
   "source": [
    "# Register the MLflow model registry\n",
    "!zenml model-registry register mlflow --flavor=mlflow\n",
    "\n",
    "# Update our stack to include the model registry\n",
    "!zenml stack update quickstart -r mlflow"
   ]
  },
  {
   "attachments": {},
   "cell_type": "markdown",
   "metadata": {},
   "source": [
    "![](../_assets/local_stack_with_local_mlflow_tracker_and_registry.png)"
   ]
  },
  {
   "attachments": {},
   "cell_type": "markdown",
   "metadata": {},
   "source": [
    "We're ready to run the pipeline now, which we can do just -- as with the step -- by calling the\n",
    "pipeline function itself."
   ]
  },
  {
   "cell_type": "code",
   "execution_count": null,
   "metadata": {},
   "outputs": [],
   "source": [
    "train_and_register_model_pipeline()"
   ]
  },
  {
   "attachments": {},
   "cell_type": "markdown",
   "metadata": {},
   "source": [
    "You can see from the logs already how our model training went: the\n",
    "`RandomForestClassifier` performed considerably better than the `SGDClassifier`,\n",
    "so that will have been the model that was returned from the evaluation step and\n",
    "then registered with the MLflow model registry."
   ]
  },
  {
   "attachments": {},
   "cell_type": "markdown",
   "metadata": {},
   "source": [
    "At this point you might be interested to view your pipeline in the ZenML\n",
    "Dashboard. You can spin this up by executing the next cell. This will start a\n",
    "server which you can access by clicking on the link that appears in the output\n",
    "of the cell.\n",
    "\n",
    "Log into the Dashboard using default credentials (username 'default' and\n",
    "password left blank). From there you can inspect the pipeline or the specific\n",
    "pipeline run. You can also examine the stack and components that we've\n",
    "registered to run everything.\n",
    "\n",
    "![](../llm_quickstart/_assets/zenml-up.gif)"
   ]
  },
  {
   "cell_type": "code",
   "execution_count": null,
   "metadata": {},
   "outputs": [],
   "source": [
    "from zenml.environment import Environment\n",
    "\n",
    "if Environment.in_google_colab():\n",
    "    # run ZenML through a cloudflare tunnel to get a public endpoint\n",
    "    !zenml up --port 8237 & cloudflared tunnel --url http://localhost:8237\n",
    "else:\n",
    "    !zenml up"
   ]
  },
  {
   "attachments": {},
   "cell_type": "markdown",
   "metadata": {},
   "source": [
    "We're using MLflow for our experiment tracking. If you'd like to inspect the\n",
    "MLflow dashboard to see your experiments and what's been logged so far, run the\n",
    "following cell. This cell will spin up a local server that you can access via\n",
    "the link mentioned after the \"Listening at:\" `INFO` log statement."
   ]
  },
  {
   "cell_type": "code",
   "execution_count": null,
   "metadata": {},
   "outputs": [],
   "source": [
    "import os\n",
    "from zenml.integrations.mlflow.mlflow_utils import get_tracking_uri\n",
    "\n",
    "os.environ[\"MLFLOW_TRACKING_URI\"] = get_tracking_uri()\n",
    "\n",
    "if Environment.in_google_colab():\n",
    "    # run mlflow through a cloudflare tunnel to get a public endpoint\n",
    "    !mlflow ui --backend-store-uri $MLFLOW_TRACKING_URI & cloudflared tunnel --url http://localhost:5000\n",
    "else:\n",
    "    !mlflow ui --backend-store-uri $MLFLOW_TRACKING_URI"
   ]
  },
  {
   "attachments": {},
   "cell_type": "markdown",
   "metadata": {},
   "source": [
    "Our pipeline above registered the best model with the MLflow model registry.\n",
    "Whenever you register a model it also versions the model since it's likely that\n",
    "you'll be iterating and improving your model over time.\n",
    "\n",
    "We'll now turn to actually deploying our model and serving some predictions, for\n",
    "which we'll need to specify the model version we want to use. You can specify\n",
    "the version number manually but below we'll use the ZenML `Client` to get the\n",
    "latest version number."
   ]
  },
  {
   "cell_type": "code",
   "execution_count": null,
   "metadata": {},
   "outputs": [],
   "source": [
    "from zenml.client import Client\n",
    "\n",
    "most_recent_model_version_number = int(\n",
    "    Client()\n",
    "    .active_stack.model_registry.list_model_versions(metadata={})[0]\n",
    "    .version\n",
    ")\n",
    "most_recent_model_version_number"
   ]
  },
  {
   "attachments": {},
   "cell_type": "markdown",
   "metadata": {},
   "source": [
    "Now we've trained our model, and we've found the best one, we want to deploy it\n",
    "and run some inference on the deployed model. We'll use the local MLflow model\n",
    "deployer which once again comes with some pre-built ZenML steps to save you reinventing the wheel."
   ]
  },
  {
   "cell_type": "code",
   "execution_count": null,
   "metadata": {},
   "outputs": [],
   "source": [
    "from zenml.integrations.mlflow.steps.mlflow_deployer import (\n",
    "    mlflow_model_registry_deployer_step,\n",
    ")\n",
    "\n",
    "model_deployer = mlflow_model_registry_deployer_step.with_options(\n",
    "    parameters=dict(\n",
    "        registry_model_name=model_name,\n",
    "        registry_model_version=most_recent_model_version_number,\n",
    "    )\n",
    ")"
   ]
  },
  {
   "attachments": {},
   "cell_type": "markdown",
   "metadata": {},
   "source": [
    "When you deploy a model this is usually something you want to remain available\n",
    "and running for a long time, so ZenML automatically creates a background service\n",
    "for your deployed model. We load the service (already created by the\n",
    "`model_deployer` step) and then use it to make some predictions."
   ]
  },
  {
   "cell_type": "code",
   "execution_count": null,
   "metadata": {},
   "outputs": [],
   "source": [
    "from zenml.services import BaseService\n",
    "from zenml.client import Client\n",
    "\n",
    "\n",
    "@step(enable_cache=False)\n",
    "def prediction_service_loader() -> BaseService:\n",
    "    \"\"\"Load the model service of our train_and_register_model_pipeline.\"\"\"\n",
    "    client = Client()\n",
    "    model_deployer = client.active_stack.model_deployer\n",
    "    services = model_deployer.find_model_server(\n",
    "        pipeline_name=\"train_and_register_model_pipeline\",\n",
    "        running=True,\n",
    "    )\n",
    "    return services[0]\n",
    "\n",
    "\n",
    "@step\n",
    "def predictor(\n",
    "    service: BaseService,\n",
    "    data: pd.DataFrame,\n",
    ") -> Annotated[list, \"predictions\"]:\n",
    "    \"\"\"Run a inference request against a prediction service.\"\"\"\n",
    "    service.start(timeout=10)  # should be a NOP if already started\n",
    "    print(f\"Running predictions on data (single individual): {data.to_numpy()[0]}\")\n",
    "    prediction = service.predict(data.to_numpy())\n",
    "    print(f\"Prediction (for single example slice) is: {bool(prediction.tolist()[0])}\")\n",
    "    return prediction.tolist()"
   ]
  },
  {
   "cell_type": "code",
   "execution_count": null,
   "metadata": {},
   "outputs": [],
   "source": [
    "# Register the MLflow model deployer\n",
    "!zenml model-deployer register mlflow --flavor=mlflow\n",
    "\n",
    "# Register a new stack with the new stack components\n",
    "!zenml stack update quickstart -d mlflow"
   ]
  },
  {
   "attachments": {},
   "cell_type": "markdown",
   "metadata": {},
   "source": [
    "Once again there is one dependency in terms of how the step needs to run, so\n",
    "we specify it upfront: the prediction service needs to be loaded\n",
    "before we try to make predictions with it."
   ]
  },
  {
   "cell_type": "code",
   "execution_count": null,
   "metadata": {},
   "outputs": [],
   "source": [
    "@pipeline\n",
    "def deploy_and_predict() -> None:\n",
    "    \"\"\"Deploy the best model and run some predictions.\"\"\"\n",
    "    prediction_service_loader.after(model_deployer)\n",
    "\n",
    "    model_deployer()\n",
    "    _, inference_data, _, _ = training_data_loader()\n",
    "    model_deployment_service = prediction_service_loader()\n",
    "    predictor(service=model_deployment_service, data=inference_data)"
   ]
  },
  {
   "cell_type": "markdown",
   "metadata": {},
   "source": [
    "Notice how we specify that we want the `prediction_service_loader` step to run *after* the\n",
    "model_deployer step. This is because we won't have a model ready for prediction\n",
    "until the deployment has taken place. ZenML automatically tries to run steps in\n",
    "parallel, so sometimes if you have this kind of sequencing you need to do then\n",
    "you'll need to specify it explicitly."
   ]
  },
  {
   "attachments": {},
   "cell_type": "markdown",
   "metadata": {},
   "source": [
    "![](../_assets/local_stack_with_local_mlflow_tracker_and_registry_and_deployer.png)\n",
    "\n",
    "Unlike in the previous case where we just ran the pipeline directly, we might\n",
    "not want to deploy the model every time. Consider the case where our models are\n",
    "returning values under 50% accuracy on the test data. In that case we might want\n",
    "to address the issues with accuracy and not spin up a deployment at all. We can\n",
    "access the artifacts associated with the previous pipeline run and check the\n",
    "test accuracy metric to see if it's above a certain threshold. Adding this to\n",
    "our workflow is as simple as adding a conditional step."
   ]
  },
  {
   "cell_type": "code",
   "execution_count": null,
   "metadata": {},
   "outputs": [],
   "source": [
    "best_model_test_accuracy = (\n",
    "    Client().get_pipeline(\"train_and_register_model_pipeline\")\n",
    "    .last_successful_run.steps[\"best_model_selector\"]\n",
    "    .outputs[\"best_model_test_acc\"].load()\n",
    ")\n",
    "\n",
    "if best_model_test_accuracy > 0.7:\n",
    "    deploy_and_predict()"
   ]
  },
  {
   "attachments": {},
   "cell_type": "markdown",
   "metadata": {},
   "source": [
    "If you recall, the purpose of this model was to predict whether or not someone\n",
    "earns more than \\$50,000 USD per year. You can see a single example in the output above.\n",
    "Given the features of a particular individual, the model predicts that they do\n",
    "not earn more than $50k per year.\n",
    "\n",
    "If we were interested in learning more about the model's predictions, we could\n",
    "separately load the predictor service and use it to pass in some other data or\n",
    "try things out. To load the predictor we can run:"
   ]
  },
  {
   "cell_type": "code",
   "execution_count": null,
   "metadata": {},
   "outputs": [],
   "source": [
    "predictor_service = deploy_and_predict.model.last_successful_run.steps[\n",
    "    \"prediction_service_loader\"\n",
    "].output.load()\n",
    "\n",
    "predictor_service"
   ]
  },
  {
   "attachments": {},
   "cell_type": "markdown",
   "metadata": {},
   "source": [
    "At this point, passing in some data is as simple as calling the `predict` method\n",
    "on the predictor service. We can try this here:"
   ]
  },
  {
   "cell_type": "code",
   "execution_count": null,
   "metadata": {},
   "outputs": [],
   "source": [
    "print(\n",
    "    f\"Model predictions: {predictor_service.predict(X_test.to_numpy()[25:35])}\"\n",
    ")\n",
    "print(f\"Ground truth:      {y_test.to_numpy()[25:35]}\")"
   ]
  },
  {
   "attachments": {},
   "cell_type": "markdown",
   "metadata": {},
   "source": [
    "We're passing in some of our test data into the model and getting back the\n",
    "predictions. You can already start to see some of the places where our\n",
    "predictions are not matching the ground truth labels. This is to be expected but\n",
    "we could potentially use this to now iterate on our models by adding more steps.\n",
    "\n",
    "To get an overview of the models and model versions that we have registered and\n",
    "deployed so\n",
    "far, we can use the CLI to list these out."
   ]
  },
  {
   "cell_type": "code",
   "execution_count": null,
   "metadata": {},
   "outputs": [],
   "source": [
    "!zenml model-registry models list"
   ]
  },
  {
   "cell_type": "code",
   "execution_count": null,
   "metadata": {},
   "outputs": [],
   "source": [
    "!zenml model-registry models list-versions zenml-quickstart-model"
   ]
  },
  {
   "cell_type": "code",
   "execution_count": null,
   "metadata": {},
   "outputs": [],
   "source": [
    "!zenml model-deployer models list"
   ]
  },
  {
   "attachments": {},
   "cell_type": "markdown",
   "metadata": {},
   "source": [
    "To view all this on the ZenML Dashboard, simply spin up the server again and\n",
    "view the steps via the DAG visualiser and also browse the artifacts."
   ]
  },
  {
   "cell_type": "code",
   "execution_count": null,
   "metadata": {},
   "outputs": [],
   "source": [
    "if Environment.in_google_colab():\n",
    "    !zenml down # server needs restarting due to colab bug.\n",
    "    # run ZenML through a cloudflare tunnel to get a public endpoint\n",
    "    !zenml up --port 8237 & cloudflared tunnel --url http://localhost:8237\n",
    "else:\n",
    "    !zenml up"
   ]
  },
  {
   "attachments": {},
   "cell_type": "markdown",
   "metadata": {},
   "source": [
    "## Congratulations!\n",
    "\n",
    "You just built two ML pipelines! You trained two models, evaluated them against\n",
    "a test set, registered the best one with the MLflow model registry, deployed it\n",
    "and served some predictions. You also learned how to iterate on your models and\n",
    "data by using some of the ZenML utility abstractions. You saw how to view your\n",
    "artifacts and stacks via the CLI as well as the ZenML Dashboard.\n",
    "\n",
    "And that is just the tip of the iceberg of what ZenML can do; check out the [**Integrations**](https://zenml.io/integrations) page for a list of all the cool MLOps tools that ZenML supports!\n",
    "\n",
    "## What to do now\n",
    "\n",
    "* If you have questions or feedback... join our [**Slack Community**](https://zenml.io/slack-invite) and become part of the ZenML family!\n",
    "* If you want to try ZenML in a real-world setting... check out the [ZenML Cloud](https://cloud.zenml.io/), a free trial of\n",
    "    ZenML's managed offering that runs on your Cloud platform. [**Sign up here**](https://sandbox.zenml.io/)."
   ]
  },
  {
   "attachments": {},
   "cell_type": "markdown",
   "metadata": {},
   "source": []
  }
 ],
 "metadata": {
  "kernelspec": {
   "display_name": "Python 3 (ipykernel)",
   "language": "python",
   "name": "python3"
  },
  "language_info": {
   "codemirror_mode": {
    "name": "ipython",
    "version": 3
   },
   "file_extension": ".py",
   "mimetype": "text/x-python",
   "name": "python",
   "nbconvert_exporter": "python",
   "pygments_lexer": "ipython3",
   "version": "3.10.11"
  }
 },
 "nbformat": 4,
 "nbformat_minor": 4
}
